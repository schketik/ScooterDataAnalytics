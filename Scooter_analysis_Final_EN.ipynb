{
 "cells": [
  {
   "cell_type": "markdown",
   "id": "8d5b785e",
   "metadata": {},
   "source": [
    "# Analysis of GoFast Scooter Rental Service"
   ]
  },
  {
   "cell_type": "markdown",
   "id": "72760d13",
   "metadata": {},
   "source": [
    "### Project Plan: Analysis of GoFast Scooter Rental Service Data**\n",
    "\n",
    "**Objective:**  \n",
    "The objective of this project is to analyze data from the GoFast scooter rental service. We have received sample data on users and their rides across several cities in Russia. This project will involve data preparation and hypothesis testing to derive meaningful insights.\n",
    "\n",
    "**Scope of Work:**\n",
    "\n",
    "1. **Data Loading:**  \n",
    "   - Import the datasets into the analysis environment.\n",
    "\n",
    "2. **Data Preparation:**  \n",
    "   - Perform data cleaning to handle missing values and remove duplicates.\n",
    "   - Convert data types as necessary for analysis.\n",
    "\n",
    "3. **Data Analysis:**  \n",
    "   - Conduct exploratory data analysis to understand the distributions and relationships within the data.\n",
    "\n",
    "4. **Data Merging:**  \n",
    "   - Merge datasets to facilitate comprehensive analysis.\n",
    "\n",
    "5. **Revenue Calculation:**  \n",
    "   - Calculate revenue metrics based on ride and subscription data.\n",
    "\n",
    "6. **Hypothesis Testing:**  \n",
    "   - Formulate and test hypotheses to validate assumptions and derive insights.\n",
    "\n",
    "7. **Distribution Analysis:**  \n",
    "   - Analyze the distribution of key metrics such as ride duration, distance, and user demographics.\n",
    "\n",
    "**Datasets:**\n",
    "\n",
    "1. **users_go.csv:**  \n",
    "   - Contains user data including demographics and registration details.\n",
    "\n",
    "2. **rides_go.csv:**  \n",
    "   - Includes detailed information about individual rides.\n",
    "\n",
    "3. **subscriptions_go.csv:**  \n",
    "   - Provides data on subscription types, including free and ultra subscriptions.\n",
    "\n",
    "By following this structured approach, we aim to provide a thorough analysis of the GoFast scooter rental service data, leading to actionable insights and recommendations."
   ]
  },
  {
   "cell_type": "code",
   "execution_count": 3,
   "id": "6bc89748",
   "metadata": {},
   "outputs": [],
   "source": [
    "import pandas as pd\n",
    "import matplotlib.pyplot as plt\n",
    "import numpy as np\n",
    "import scipy.stats as st\n",
    "from scipy.stats import binom, norm\n",
    "from math import factorial, sqrt\n"
   ]
  },
  {
   "cell_type": "markdown",
   "id": "c3936b58",
   "metadata": {},
   "source": [
    "#### Load data"
   ]
  },
  {
   "cell_type": "markdown",
   "id": "9de86392",
   "metadata": {},
   "source": [
    "##### Analysis of Rides dataset\n"
   ]
  },
  {
   "cell_type": "code",
   "execution_count": 5,
   "id": "38938f10",
   "metadata": {
    "scrolled": true
   },
   "outputs": [
    {
     "data": {
      "text/html": [
       "<div>\n",
       "<style scoped>\n",
       "    .dataframe tbody tr th:only-of-type {\n",
       "        vertical-align: middle;\n",
       "    }\n",
       "\n",
       "    .dataframe tbody tr th {\n",
       "        vertical-align: top;\n",
       "    }\n",
       "\n",
       "    .dataframe thead th {\n",
       "        text-align: right;\n",
       "    }\n",
       "</style>\n",
       "<table border=\"1\" class=\"dataframe\">\n",
       "  <thead>\n",
       "    <tr style=\"text-align: right;\">\n",
       "      <th></th>\n",
       "      <th>user_id</th>\n",
       "      <th>distance</th>\n",
       "      <th>duration</th>\n",
       "      <th>date</th>\n",
       "    </tr>\n",
       "  </thead>\n",
       "  <tbody>\n",
       "    <tr>\n",
       "      <th>0</th>\n",
       "      <td>1</td>\n",
       "      <td>4409.919140</td>\n",
       "      <td>25.599769</td>\n",
       "      <td>2021-01-01</td>\n",
       "    </tr>\n",
       "    <tr>\n",
       "      <th>1</th>\n",
       "      <td>1</td>\n",
       "      <td>2617.592153</td>\n",
       "      <td>15.816871</td>\n",
       "      <td>2021-01-18</td>\n",
       "    </tr>\n",
       "    <tr>\n",
       "      <th>2</th>\n",
       "      <td>1</td>\n",
       "      <td>754.159807</td>\n",
       "      <td>6.232113</td>\n",
       "      <td>2021-04-20</td>\n",
       "    </tr>\n",
       "    <tr>\n",
       "      <th>3</th>\n",
       "      <td>1</td>\n",
       "      <td>2694.783254</td>\n",
       "      <td>18.511000</td>\n",
       "      <td>2021-08-11</td>\n",
       "    </tr>\n",
       "    <tr>\n",
       "      <th>4</th>\n",
       "      <td>1</td>\n",
       "      <td>4028.687306</td>\n",
       "      <td>26.265803</td>\n",
       "      <td>2021-08-28</td>\n",
       "    </tr>\n",
       "  </tbody>\n",
       "</table>\n",
       "</div>"
      ],
      "text/plain": [
       "   user_id     distance   duration        date\n",
       "0        1  4409.919140  25.599769  2021-01-01\n",
       "1        1  2617.592153  15.816871  2021-01-18\n",
       "2        1   754.159807   6.232113  2021-04-20\n",
       "3        1  2694.783254  18.511000  2021-08-11\n",
       "4        1  4028.687306  26.265803  2021-08-28"
      ]
     },
     "metadata": {},
     "output_type": "display_data"
    }
   ],
   "source": [
    "rides = pd.read_csv('rides_go.csv') \n",
    "display(rides.head())"
   ]
  },
  {
   "cell_type": "code",
   "execution_count": 6,
   "id": "df10571d",
   "metadata": {},
   "outputs": [
    {
     "name": "stdout",
     "output_type": "stream",
     "text": [
      "<class 'pandas.core.frame.DataFrame'>\n",
      "RangeIndex: 18068 entries, 0 to 18067\n",
      "Data columns (total 4 columns):\n",
      " #   Column    Non-Null Count  Dtype  \n",
      "---  ------    --------------  -----  \n",
      " 0   user_id   18068 non-null  int64  \n",
      " 1   distance  18068 non-null  float64\n",
      " 2   duration  18068 non-null  float64\n",
      " 3   date      18068 non-null  object \n",
      "dtypes: float64(2), int64(1), object(1)\n",
      "memory usage: 564.8+ KB\n"
     ]
    }
   ],
   "source": [
    "rides.info()"
   ]
  },
  {
   "cell_type": "markdown",
   "id": "cff9942b",
   "metadata": {},
   "source": [
    "We can observe, that dataset has 18.068 entries with no missing values. \n",
    "There are 4 columns, which have correct naming convention \n",
    "Data type is correct, except for the column date. This needs to be converted to correct format datetime in Section 2. "
   ]
  },
  {
   "cell_type": "markdown",
   "id": "b5395cd3",
   "metadata": {},
   "source": [
    "#####  Analysis of Users dataset"
   ]
  },
  {
   "cell_type": "code",
   "execution_count": 8,
   "id": "93483125",
   "metadata": {},
   "outputs": [
    {
     "data": {
      "text/html": [
       "<div>\n",
       "<style scoped>\n",
       "    .dataframe tbody tr th:only-of-type {\n",
       "        vertical-align: middle;\n",
       "    }\n",
       "\n",
       "    .dataframe tbody tr th {\n",
       "        vertical-align: top;\n",
       "    }\n",
       "\n",
       "    .dataframe thead th {\n",
       "        text-align: right;\n",
       "    }\n",
       "</style>\n",
       "<table border=\"1\" class=\"dataframe\">\n",
       "  <thead>\n",
       "    <tr style=\"text-align: right;\">\n",
       "      <th></th>\n",
       "      <th>user_id</th>\n",
       "      <th>name</th>\n",
       "      <th>age</th>\n",
       "      <th>city</th>\n",
       "      <th>subscription_type</th>\n",
       "    </tr>\n",
       "  </thead>\n",
       "  <tbody>\n",
       "    <tr>\n",
       "      <th>0</th>\n",
       "      <td>1</td>\n",
       "      <td>Кира</td>\n",
       "      <td>22</td>\n",
       "      <td>Тюмень</td>\n",
       "      <td>ultra</td>\n",
       "    </tr>\n",
       "    <tr>\n",
       "      <th>1</th>\n",
       "      <td>2</td>\n",
       "      <td>Станислав</td>\n",
       "      <td>31</td>\n",
       "      <td>Омск</td>\n",
       "      <td>ultra</td>\n",
       "    </tr>\n",
       "    <tr>\n",
       "      <th>2</th>\n",
       "      <td>3</td>\n",
       "      <td>Алексей</td>\n",
       "      <td>20</td>\n",
       "      <td>Москва</td>\n",
       "      <td>ultra</td>\n",
       "    </tr>\n",
       "    <tr>\n",
       "      <th>3</th>\n",
       "      <td>4</td>\n",
       "      <td>Константин</td>\n",
       "      <td>26</td>\n",
       "      <td>Ростов-на-Дону</td>\n",
       "      <td>ultra</td>\n",
       "    </tr>\n",
       "    <tr>\n",
       "      <th>4</th>\n",
       "      <td>5</td>\n",
       "      <td>Адель</td>\n",
       "      <td>28</td>\n",
       "      <td>Омск</td>\n",
       "      <td>ultra</td>\n",
       "    </tr>\n",
       "  </tbody>\n",
       "</table>\n",
       "</div>"
      ],
      "text/plain": [
       "   user_id        name  age            city subscription_type\n",
       "0        1        Кира   22          Тюмень             ultra\n",
       "1        2   Станислав   31            Омск             ultra\n",
       "2        3     Алексей   20          Москва             ultra\n",
       "3        4  Константин   26  Ростов-на-Дону             ultra\n",
       "4        5       Адель   28            Омск             ultra"
      ]
     },
     "metadata": {},
     "output_type": "display_data"
    }
   ],
   "source": [
    "users = pd.read_csv('users_go.csv') \n",
    "display(users.head())"
   ]
  },
  {
   "cell_type": "code",
   "execution_count": 9,
   "id": "ca77466d",
   "metadata": {
    "scrolled": true
   },
   "outputs": [
    {
     "name": "stdout",
     "output_type": "stream",
     "text": [
      "<class 'pandas.core.frame.DataFrame'>\n",
      "RangeIndex: 1565 entries, 0 to 1564\n",
      "Data columns (total 5 columns):\n",
      " #   Column             Non-Null Count  Dtype \n",
      "---  ------             --------------  ----- \n",
      " 0   user_id            1565 non-null   int64 \n",
      " 1   name               1565 non-null   object\n",
      " 2   age                1565 non-null   int64 \n",
      " 3   city               1565 non-null   object\n",
      " 4   subscription_type  1565 non-null   object\n",
      "dtypes: int64(2), object(3)\n",
      "memory usage: 61.3+ KB\n"
     ]
    }
   ],
   "source": [
    "users.info()"
   ]
  },
  {
   "cell_type": "markdown",
   "id": "de97e1a5",
   "metadata": {},
   "source": [
    "We can observe that the users table has 1565 entries with no missing values.\n",
    "There are 5 columns, which have correct naming conventions.\n",
    "The data type is correct: int for numerical values, and object for strings."
   ]
  },
  {
   "cell_type": "markdown",
   "id": "002b9284",
   "metadata": {},
   "source": [
    "#####  Analysis of Subscription dataset"
   ]
  },
  {
   "cell_type": "code",
   "execution_count": 10,
   "id": "f2582e66",
   "metadata": {},
   "outputs": [
    {
     "data": {
      "text/html": [
       "<div>\n",
       "<style scoped>\n",
       "    .dataframe tbody tr th:only-of-type {\n",
       "        vertical-align: middle;\n",
       "    }\n",
       "\n",
       "    .dataframe tbody tr th {\n",
       "        vertical-align: top;\n",
       "    }\n",
       "\n",
       "    .dataframe thead th {\n",
       "        text-align: right;\n",
       "    }\n",
       "</style>\n",
       "<table border=\"1\" class=\"dataframe\">\n",
       "  <thead>\n",
       "    <tr style=\"text-align: right;\">\n",
       "      <th></th>\n",
       "      <th>subscription_type</th>\n",
       "      <th>minute_price</th>\n",
       "      <th>start_ride_price</th>\n",
       "      <th>subscription_fee</th>\n",
       "    </tr>\n",
       "  </thead>\n",
       "  <tbody>\n",
       "    <tr>\n",
       "      <th>0</th>\n",
       "      <td>free</td>\n",
       "      <td>8</td>\n",
       "      <td>50</td>\n",
       "      <td>0</td>\n",
       "    </tr>\n",
       "    <tr>\n",
       "      <th>1</th>\n",
       "      <td>ultra</td>\n",
       "      <td>6</td>\n",
       "      <td>0</td>\n",
       "      <td>199</td>\n",
       "    </tr>\n",
       "  </tbody>\n",
       "</table>\n",
       "</div>"
      ],
      "text/plain": [
       "  subscription_type  minute_price  start_ride_price  subscription_fee\n",
       "0              free             8                50                 0\n",
       "1             ultra             6                 0               199"
      ]
     },
     "metadata": {},
     "output_type": "display_data"
    }
   ],
   "source": [
    "subscr = pd.read_csv('subscriptions_go.csv') \n",
    "display(subscr.head())"
   ]
  },
  {
   "cell_type": "code",
   "execution_count": 11,
   "id": "aa224798",
   "metadata": {
    "scrolled": true
   },
   "outputs": [
    {
     "name": "stdout",
     "output_type": "stream",
     "text": [
      "<class 'pandas.core.frame.DataFrame'>\n",
      "RangeIndex: 2 entries, 0 to 1\n",
      "Data columns (total 4 columns):\n",
      " #   Column             Non-Null Count  Dtype \n",
      "---  ------             --------------  ----- \n",
      " 0   subscription_type  2 non-null      object\n",
      " 1   minute_price       2 non-null      int64 \n",
      " 2   start_ride_price   2 non-null      int64 \n",
      " 3   subscription_fee   2 non-null      int64 \n",
      "dtypes: int64(3), object(1)\n",
      "memory usage: 196.0+ bytes\n"
     ]
    }
   ],
   "source": [
    "subscr.info()"
   ]
  },
  {
   "cell_type": "markdown",
   "id": "ca261fb8",
   "metadata": {},
   "source": [
    "We can observe that the subscriptions_go table has 2 entries for 2 subscription types. There are 4 columns, which have correct naming conventions. The data type is correct: int for numerical values, and object for strings."
   ]
  },
  {
   "cell_type": "markdown",
   "id": "481e1d31",
   "metadata": {},
   "source": [
    "####  Data Preparation\n"
   ]
  },
  {
   "cell_type": "markdown",
   "id": "ce2d6da4",
   "metadata": {},
   "source": [
    "#####  Data type conversion "
   ]
  },
  {
   "cell_type": "markdown",
   "id": "908db72a",
   "metadata": {},
   "source": [
    "We convert date column in the dataset rides_go to the date-time format '%Y-%m-%d'of pandas"
   ]
  },
  {
   "cell_type": "code",
   "execution_count": 12,
   "id": "3f846a80",
   "metadata": {},
   "outputs": [],
   "source": [
    "rides['date'] = pd.to_datetime(rides['date'], format='%Y-%m-%d')"
   ]
  },
  {
   "cell_type": "markdown",
   "id": "d6169efd",
   "metadata": {},
   "source": [
    "##### Creation of the new column "
   ]
  },
  {
   "cell_type": "markdown",
   "id": "a6ed12e6",
   "metadata": {},
   "source": [
    "\n",
    "Add a new column with month number based on date in rides "
   ]
  },
  {
   "cell_type": "code",
   "execution_count": 13,
   "id": "c4496495",
   "metadata": {},
   "outputs": [
    {
     "data": {
      "text/plain": [
       "year\n",
       "2021    18068\n",
       "Name: count, dtype: int64"
      ]
     },
     "metadata": {},
     "output_type": "display_data"
    },
    {
     "data": {
      "text/plain": [
       "month\n",
       "1     1585\n",
       "5     1560\n",
       "6     1553\n",
       "3     1544\n",
       "7     1529\n",
       "12    1527\n",
       "8     1518\n",
       "9     1517\n",
       "4     1506\n",
       "10    1475\n",
       "11    1418\n",
       "2     1336\n",
       "Name: count, dtype: int64"
      ]
     },
     "metadata": {},
     "output_type": "display_data"
    }
   ],
   "source": [
    "#add column month\n",
    "rides['month'] = pd.DatetimeIndex(rides['date']).month\n",
    "#check of there is only one year \n",
    "rides['year'] = pd.DatetimeIndex(rides['date']).year\n",
    "years = rides['year'].nunique()\n",
    "display(rides['year'].value_counts())\n",
    "#check if the column has been added \n",
    "display(rides['month'].value_counts())\n"
   ]
  },
  {
   "cell_type": "markdown",
   "id": "421303f2",
   "metadata": {},
   "source": [
    "##### Сheck missing values & dupliactes"
   ]
  },
  {
   "cell_type": "code",
   "execution_count": 14,
   "id": "8b7962f6",
   "metadata": {},
   "outputs": [
    {
     "name": "stdout",
     "output_type": "stream",
     "text": [
      "user_id     0\n",
      "distance    0\n",
      "duration    0\n",
      "date        0\n",
      "month       0\n",
      "year        0\n",
      "dtype: int64\n",
      "user_id              0\n",
      "name                 0\n",
      "age                  0\n",
      "city                 0\n",
      "subscription_type    0\n",
      "dtype: int64\n"
     ]
    }
   ],
   "source": [
    "print(rides.isnull().sum()) \n",
    "print(users.isnull().sum())"
   ]
  },
  {
   "cell_type": "markdown",
   "id": "26e57101",
   "metadata": {},
   "source": [
    "There are no missing values in the new table"
   ]
  },
  {
   "cell_type": "code",
   "execution_count": 15,
   "id": "95db99c7",
   "metadata": {},
   "outputs": [
    {
     "name": "stdout",
     "output_type": "stream",
     "text": [
      "Empty DataFrame\n",
      "Columns: [user_id, name, age, city, subscription_type]\n",
      "Index: []\n"
     ]
    }
   ],
   "source": [
    "# delete the duplicate rows for users \n",
    "users = users.drop_duplicates()\n",
    "#print(users['user_id'].count())\n",
    "\n",
    "#check if the dupliactes are still there for users \n",
    "duplicates_user = users[users.duplicated()]\n",
    "print(duplicates_user)"
   ]
  },
  {
   "cell_type": "markdown",
   "id": "9b07d78f",
   "metadata": {},
   "source": [
    "Сheck not obvious duplicate values in column name of users \n"
   ]
  },
  {
   "cell_type": "code",
   "execution_count": 16,
   "id": "031b8d26",
   "metadata": {
    "scrolled": false
   },
   "outputs": [
    {
     "name": "stdout",
     "output_type": "stream",
     "text": [
      "['Кира' 'Станислав' 'Алексей' 'Константин' 'Адель' 'Регина' 'Игорь' 'Юрий'\n",
      " 'Ян' 'Валерий' 'Агата' 'Марк' 'Ева' 'Антонина' 'Валерия' 'Амалия'\n",
      " 'Даниил' 'Аделина' 'Святогор' 'Борис' 'Вероника' 'Ростислав' 'Назар'\n",
      " 'Эдуард' 'Василий' 'Денис' 'Тамара' 'Николай' 'Эвелина' 'Федор' 'Руслан'\n",
      " 'Иван' 'Любовь' 'Ярослава' 'Майя' 'Ильдар' 'Данила' 'Нина' 'Стефания'\n",
      " 'Ясмина' 'Дмитрий' 'Александр' 'Одиссей' 'Арсений' 'Алла' 'Таисия'\n",
      " 'Максим' 'Юлиана' 'Павел' 'Карина' 'Алиса' 'Лидия' 'Рамиль' 'Родион'\n",
      " 'Ника' 'Оксана' 'Анастасия' 'Маргарита' 'Вера' 'Тимур' 'Никита' 'Лев'\n",
      " 'Влад' 'Артур' 'Анна' 'Ольга' 'Вячеслав' 'Ксения' 'Виталина' 'Владислав'\n",
      " 'Тамерлан' 'Амина' 'Вадим' 'Олеся' 'Зарина' 'Егор' 'Гордей' 'Лилия'\n",
      " 'Святослав' 'Роберт' 'Амир' 'Влада' 'Богдан' 'Полина' 'Марат' 'Елисей'\n",
      " 'Макар' 'Алина' 'Глеб' 'Андрей' 'Альбина' 'Людмила' 'Марсель' 'Милена'\n",
      " 'Диана' 'Дарина' 'Данил' 'Артемий' 'Лиана' 'Альберт' 'Герман' 'Жанна'\n",
      " 'Нелли' 'Евгения' 'Ариана' 'Самира' 'Захар' 'Эльвира' 'Екатерина' 'Инна'\n",
      " 'Демид' 'Яна' 'Михаил' 'Татьяна' 'Степан' 'Мелания' 'Тимофей' 'Ирина'\n",
      " 'Анжелика' 'Владислава' 'Елизавета' 'Мадина' 'Снежана' 'Даниэль' 'Рустам'\n",
      " 'Каролина' 'Ангелина' 'Владимир' 'Виктория' 'Валентина' 'Семен' 'Арина'\n",
      " 'Лариса' 'Есения' 'Галина' 'Кирилл' 'Игнат' 'Виталий' 'Эмилия' 'Виолетта'\n",
      " 'Яромир' 'Софья' 'Мирослава' 'Евгений' 'Варвара' 'Платон' 'Наталия'\n",
      " 'Анатолий' 'Кристина' 'Всеволод' 'Дарья' 'Наташа' 'Мария' 'Марина'\n",
      " 'Василиса' 'Юлия' 'Илья' 'Злата' 'Роман' 'Наталья' 'Элина' 'Арсен'\n",
      " 'Айдар' 'Алия' 'Виктор' 'Мирон' 'Ульяна' 'Георгий' 'Петр' 'Эльмира'\n",
      " 'Олег' 'Дамир' 'Самир' 'Ярослав' 'Камилла' 'Сергей' 'Эмиль' 'Радмир'\n",
      " 'Савелий' 'Елена' 'Антон' 'Мирослав' 'София' 'Тихон' 'Артём' 'Давид'\n",
      " 'Григорий' 'Алёна' 'Светлана' 'Леонид' 'Александра' 'Василина' 'Милана'\n",
      " 'Матвей']\n"
     ]
    }
   ],
   "source": [
    "print(users['name'].unique())"
   ]
  },
  {
   "cell_type": "markdown",
   "id": "04c8aa0b",
   "metadata": {},
   "source": [
    "Unify duplicate names "
   ]
  },
  {
   "cell_type": "code",
   "execution_count": 17,
   "id": "c046d44c",
   "metadata": {},
   "outputs": [],
   "source": [
    "users['name'] = users['name'].replace('Наташа', 'Наталья')"
   ]
  },
  {
   "cell_type": "markdown",
   "id": "eaf6027b",
   "metadata": {},
   "source": [
    "Сheck duplicate values in column city of users after change"
   ]
  },
  {
   "cell_type": "markdown",
   "id": "339663a6",
   "metadata": {},
   "source": [
    "\n",
    "check duplicate values in column city of users \n",
    "\n"
   ]
  },
  {
   "cell_type": "code",
   "execution_count": 18,
   "id": "58a002bb",
   "metadata": {},
   "outputs": [
    {
     "data": {
      "text/plain": [
       "array(['Тюмень', 'Омск', 'Москва', 'Ростов-на-Дону', 'Краснодар',\n",
       "       'Пятигорск', 'Екатеринбург', 'Сочи'], dtype=object)"
      ]
     },
     "metadata": {},
     "output_type": "display_data"
    }
   ],
   "source": [
    "display(users['city'].unique())"
   ]
  },
  {
   "cell_type": "markdown",
   "id": "9cc8ecba",
   "metadata": {},
   "source": [
    "In City column no duplicates have been identified"
   ]
  },
  {
   "cell_type": "markdown",
   "id": "6391ad5a",
   "metadata": {},
   "source": [
    "\n",
    "Conculsion of the data preparation part: \n",
    "- here we converted date column to correct data type \n",
    "- created new column for further analysis \n",
    "- checked and deleted duplicate values \n",
    "- replaced dupliacte values \n",
    "- checked the missing values in the datasets \n",
    "\n",
    "Now the data is ready for further step - data analysis"
   ]
  },
  {
   "cell_type": "markdown",
   "id": "2c7d741a",
   "metadata": {},
   "source": [
    "#### EDA Data Analysis"
   ]
  },
  {
   "cell_type": "markdown",
   "id": "d1068ffd",
   "metadata": {},
   "source": [
    "##### City frequency "
   ]
  },
  {
   "cell_type": "code",
   "execution_count": 19,
   "id": "4eb135de",
   "metadata": {},
   "outputs": [
    {
     "data": {
      "image/png": "[encoded data removed]",
      "text/plain": [
       "<Figure size 640x480 with 1 Axes>"
      ]
     },
     "metadata": {},
     "output_type": "display_data"
    }
   ],
   "source": [
    "city_df = users['city'].value_counts().sort_values(ascending=True)\n",
    "plt.bar(city_df.index, city_df.values)\n",
    "\n",
    "plt.xlabel('City')\n",
    "plt.ylabel('Number of rides')\n",
    "plt.title('City frequency')\n",
    "plt.grid(axis='y') \n",
    "plt.xticks(rotation=45)\n",
    "plt.show()"
   ]
  },
  {
   "cell_type": "markdown",
   "id": "406ceedd",
   "metadata": {},
   "source": [
    "##### Number of users with and w/o subscription"
   ]
  },
  {
   "cell_type": "code",
   "execution_count": 20,
   "id": "30a4d218",
   "metadata": {
    "scrolled": true
   },
   "outputs": [
    {
     "name": "stdout",
     "output_type": "stream",
     "text": [
      "subscription_type\n",
      "free     835\n",
      "ultra    699\n",
      "Name: user_id, dtype: int64\n"
     ]
    },
    {
     "data": {
      "image/png": "[encoded data removed]",
      "text/plain": [
       "<Figure size 640x480 with 1 Axes>"
      ]
     },
     "metadata": {},
     "output_type": "display_data"
    }
   ],
   "source": [
    "users_grouped = users.groupby('subscription_type')['user_id'].count()\n",
    "print(users_grouped)\n",
    "\n",
    "plt.pie(users_grouped, labels=users_grouped.index, autopct='%1.1f%%')\n",
    "\n",
    "plt.title('Number of users with & w/o subscription')\n",
    "\n",
    "plt.show()"
   ]
  },
  {
   "cell_type": "markdown",
   "id": "ff534b80",
   "metadata": {},
   "source": [
    "The graph shows that there are slightly more unsubscribed users than subscribed users "
   ]
  },
  {
   "cell_type": "markdown",
   "id": "460ca0ea",
   "metadata": {},
   "source": [
    "##### Age of useres"
   ]
  },
  {
   "cell_type": "code",
   "execution_count": 21,
   "id": "ee52c843",
   "metadata": {},
   "outputs": [
    {
     "data": {
      "image/png": "[encoded data removed]",
      "text/plain": [
       "<Figure size 640x480 with 1 Axes>"
      ]
     },
     "metadata": {},
     "output_type": "display_data"
    }
   ],
   "source": [
    "users['age'].describe()\n",
    "\n",
    "plt.hist(users['age'], bins=50, color = 'orange')\n",
    "\n",
    "plt.xlabel('User Age')\n",
    "plt.ylabel('Number of users')\n",
    "plt.title('Use Age Statistics')\n",
    "plt.grid(axis='y')\n",
    "plt.show()\n"
   ]
  },
  {
   "cell_type": "markdown",
   "id": "b50a8924",
   "metadata": {},
   "source": [
    "Most scooter users are around 25 years old."
   ]
  },
  {
   "cell_type": "markdown",
   "id": "003f83ef",
   "metadata": {},
   "source": [
    "##### Single ride distance "
   ]
  },
  {
   "cell_type": "code",
   "execution_count": 22,
   "id": "4c89dc3f",
   "metadata": {
    "scrolled": true
   },
   "outputs": [
    {
     "data": {
      "image/png": "[encoded data removed]",
      "text/plain": [
       "<Figure size 640x480 with 1 Axes>"
      ]
     },
     "metadata": {},
     "output_type": "display_data"
    }
   ],
   "source": [
    "plt.hist(rides['distance'], bins=50, color = 'orange')\n",
    "\n",
    "plt.xlabel('Distance (meters)')\n",
    "plt.ylabel('Ride Frequency')\n",
    "plt.title('Single ride distance')\n",
    "plt.grid(axis='x')\n",
    "plt.show()\n"
   ]
  },
  {
   "cell_type": "markdown",
   "id": "9040502e",
   "metadata": {},
   "source": [
    "The average user travels between 3 and 3.5 km\n",
    "The two peaks around 700 meters and 3,100 meters can be explained by the fact that part of the users use the \n",
    "scooters for shorter distances and some for longer distances.\n",
    "It is also possible that those who have a subscription will use the scooter longer, as the per minute charge is lower. "
   ]
  },
  {
   "cell_type": "markdown",
   "id": "5aa942c5",
   "metadata": {},
   "source": [
    "##### Ride Duration"
   ]
  },
  {
   "cell_type": "code",
   "execution_count": 23,
   "id": "2ed39393",
   "metadata": {
    "scrolled": true
   },
   "outputs": [
    {
     "data": {
      "image/png": "[encoded data removed]",
      "text/plain": [
       "<Figure size 640x480 with 1 Axes>"
      ]
     },
     "metadata": {},
     "output_type": "display_data"
    }
   ],
   "source": [
    "plt.hist(rides['duration'], bins=50, color = 'orange')\n",
    "\n",
    "plt.xlabel('Duration (min)')\n",
    "plt.ylabel('Ride Frequency')\n",
    "plt.title('Ride Duration')\n",
    "plt.grid(axis='x')\n",
    "plt.show()"
   ]
  },
  {
   "cell_type": "code",
   "execution_count": 24,
   "id": "05b6ca03",
   "metadata": {},
   "outputs": [
    {
     "data": {
      "text/html": [
       "<div>\n",
       "<style scoped>\n",
       "    .dataframe tbody tr th:only-of-type {\n",
       "        vertical-align: middle;\n",
       "    }\n",
       "\n",
       "    .dataframe tbody tr th {\n",
       "        vertical-align: top;\n",
       "    }\n",
       "\n",
       "    .dataframe thead th {\n",
       "        text-align: right;\n",
       "    }\n",
       "</style>\n",
       "<table border=\"1\" class=\"dataframe\">\n",
       "  <thead>\n",
       "    <tr style=\"text-align: right;\">\n",
       "      <th></th>\n",
       "      <th>user_id</th>\n",
       "      <th>distance</th>\n",
       "      <th>duration</th>\n",
       "      <th>date</th>\n",
       "      <th>month</th>\n",
       "      <th>year</th>\n",
       "    </tr>\n",
       "  </thead>\n",
       "  <tbody>\n",
       "    <tr>\n",
       "      <th>6531</th>\n",
       "      <td>701</td>\n",
       "      <td>4196.445201</td>\n",
       "      <td>0.5</td>\n",
       "      <td>2021-08-31</td>\n",
       "      <td>8</td>\n",
       "      <td>2021</td>\n",
       "    </tr>\n",
       "    <tr>\n",
       "      <th>14615</th>\n",
       "      <td>1287</td>\n",
       "      <td>5944.789947</td>\n",
       "      <td>0.5</td>\n",
       "      <td>2021-12-09</td>\n",
       "      <td>12</td>\n",
       "      <td>2021</td>\n",
       "    </tr>\n",
       "    <tr>\n",
       "      <th>14574</th>\n",
       "      <td>1285</td>\n",
       "      <td>6316.574814</td>\n",
       "      <td>0.5</td>\n",
       "      <td>2021-09-25</td>\n",
       "      <td>9</td>\n",
       "      <td>2021</td>\n",
       "    </tr>\n",
       "    <tr>\n",
       "      <th>14417</th>\n",
       "      <td>1273</td>\n",
       "      <td>4178.876258</td>\n",
       "      <td>0.5</td>\n",
       "      <td>2021-04-30</td>\n",
       "      <td>4</td>\n",
       "      <td>2021</td>\n",
       "    </tr>\n",
       "    <tr>\n",
       "      <th>14342</th>\n",
       "      <td>1268</td>\n",
       "      <td>4177.139336</td>\n",
       "      <td>0.5</td>\n",
       "      <td>2021-06-09</td>\n",
       "      <td>6</td>\n",
       "      <td>2021</td>\n",
       "    </tr>\n",
       "    <tr>\n",
       "      <th>...</th>\n",
       "      <td>...</td>\n",
       "      <td>...</td>\n",
       "      <td>...</td>\n",
       "      <td>...</td>\n",
       "      <td>...</td>\n",
       "      <td>...</td>\n",
       "    </tr>\n",
       "    <tr>\n",
       "      <th>9581</th>\n",
       "      <td>928</td>\n",
       "      <td>4857.412920</td>\n",
       "      <td>0.5</td>\n",
       "      <td>2021-06-06</td>\n",
       "      <td>6</td>\n",
       "      <td>2021</td>\n",
       "    </tr>\n",
       "    <tr>\n",
       "      <th>9497</th>\n",
       "      <td>922</td>\n",
       "      <td>4620.899239</td>\n",
       "      <td>0.5</td>\n",
       "      <td>2021-01-05</td>\n",
       "      <td>1</td>\n",
       "      <td>2021</td>\n",
       "    </tr>\n",
       "    <tr>\n",
       "      <th>9282</th>\n",
       "      <td>907</td>\n",
       "      <td>4520.123807</td>\n",
       "      <td>0.5</td>\n",
       "      <td>2021-04-24</td>\n",
       "      <td>4</td>\n",
       "      <td>2021</td>\n",
       "    </tr>\n",
       "    <tr>\n",
       "      <th>10426</th>\n",
       "      <td>987</td>\n",
       "      <td>5375.139265</td>\n",
       "      <td>0.5</td>\n",
       "      <td>2021-03-16</td>\n",
       "      <td>3</td>\n",
       "      <td>2021</td>\n",
       "    </tr>\n",
       "    <tr>\n",
       "      <th>17909</th>\n",
       "      <td>1524</td>\n",
       "      <td>4103.998874</td>\n",
       "      <td>0.5</td>\n",
       "      <td>2021-06-18</td>\n",
       "      <td>6</td>\n",
       "      <td>2021</td>\n",
       "    </tr>\n",
       "  </tbody>\n",
       "</table>\n",
       "<p>95 rows × 6 columns</p>\n",
       "</div>"
      ],
      "text/plain": [
       "       user_id     distance  duration       date  month  year\n",
       "6531       701  4196.445201       0.5 2021-08-31      8  2021\n",
       "14615     1287  5944.789947       0.5 2021-12-09     12  2021\n",
       "14574     1285  6316.574814       0.5 2021-09-25      9  2021\n",
       "14417     1273  4178.876258       0.5 2021-04-30      4  2021\n",
       "14342     1268  4177.139336       0.5 2021-06-09      6  2021\n",
       "...        ...          ...       ...        ...    ...   ...\n",
       "9581       928  4857.412920       0.5 2021-06-06      6  2021\n",
       "9497       922  4620.899239       0.5 2021-01-05      1  2021\n",
       "9282       907  4520.123807       0.5 2021-04-24      4  2021\n",
       "10426      987  5375.139265       0.5 2021-03-16      3  2021\n",
       "17909     1524  4103.998874       0.5 2021-06-18      6  2021\n",
       "\n",
       "[95 rows x 6 columns]"
      ]
     },
     "metadata": {},
     "output_type": "display_data"
    }
   ],
   "source": [
    "zero_time = rides[rides['duration'] < 1]\n",
    "display(zero_time.sort_values(by = 'duration',ascending = True))"
   ]
  },
  {
   "cell_type": "markdown",
   "id": "67e989c3",
   "metadata": {},
   "source": [
    "The graph shows a peak near zero values. If you look at the lines with duration less than 1 minute, you can see 95 lines with a value of 0.5 minutes, and the distances traveled by the user were quite large - 4-5 km. Apparently, there was an error during data uploading or application operation. \n"
   ]
  },
  {
   "cell_type": "markdown",
   "id": "95836820",
   "metadata": {},
   "source": [
    "We can replace 0.5 with the average travel time for a distance of 4000-6000 meters. "
   ]
  },
  {
   "cell_type": "code",
   "execution_count": 25,
   "id": "9c1b17f7",
   "metadata": {},
   "outputs": [],
   "source": [
    "distance_filter = rides.query('4000 <= distance <= 6000')\n",
    "duration_mean = distance_filter['duration'].mean()\n",
    "rides.loc[rides.query('duration == 0.5').index, 'duration'] = duration_mean"
   ]
  },
  {
   "cell_type": "markdown",
   "id": "bf547621",
   "metadata": {},
   "source": [
    "Updated chart without peaks 0.5"
   ]
  },
  {
   "cell_type": "code",
   "execution_count": 26,
   "id": "24190aa0",
   "metadata": {},
   "outputs": [
    {
     "data": {
      "image/png": "[encoded data removed]",
      "text/plain": [
       "<Figure size 640x480 with 1 Axes>"
      ]
     },
     "metadata": {},
     "output_type": "display_data"
    }
   ],
   "source": [
    "plt.hist(rides['duration'], bins=50, color = 'orange')\n",
    "\n",
    "plt.xlabel('Duration (min)')\n",
    "plt.ylabel('Ride Frequency')\n",
    "plt.title('Ride Duration')\n",
    "plt.grid(axis='x')\n",
    "plt.show()"
   ]
  },
  {
   "cell_type": "markdown",
   "id": "cd478083",
   "metadata": {},
   "source": [
    "The average user spends between 17 and 19 minutes per ride. "
   ]
  },
  {
   "cell_type": "markdown",
   "id": "e97e7c9e",
   "metadata": {},
   "source": [
    "#### Merging data"
   ]
  },
  {
   "cell_type": "markdown",
   "id": "ceaedb14",
   "metadata": {},
   "source": [
    "##### Merge three datasets in one "
   ]
  },
  {
   "cell_type": "markdown",
   "id": "510ff718",
   "metadata": {},
   "source": [
    "Before merging the tables, we check the number of rows in them "
   ]
  },
  {
   "cell_type": "code",
   "execution_count": 27,
   "id": "6fd3cbe8",
   "metadata": {},
   "outputs": [
    {
     "name": "stdout",
     "output_type": "stream",
     "text": [
      "Number of rows in rides: 18068\n",
      "Number of rows in users: 1534\n",
      "Number of rows in subscr: 2\n"
     ]
    }
   ],
   "source": [
    "print('Number of rows in rides:',len(rides))\n",
    "print('Number of rows in users:',len(users))\n",
    "print('Number of rows in subscr:', len(subscr))"
   ]
  },
  {
   "cell_type": "code",
   "execution_count": 28,
   "id": "7a6fa7b8",
   "metadata": {},
   "outputs": [
    {
     "data": {
      "text/html": [
       "<div>\n",
       "<style scoped>\n",
       "    .dataframe tbody tr th:only-of-type {\n",
       "        vertical-align: middle;\n",
       "    }\n",
       "\n",
       "    .dataframe tbody tr th {\n",
       "        vertical-align: top;\n",
       "    }\n",
       "\n",
       "    .dataframe thead th {\n",
       "        text-align: right;\n",
       "    }\n",
       "</style>\n",
       "<table border=\"1\" class=\"dataframe\">\n",
       "  <thead>\n",
       "    <tr style=\"text-align: right;\">\n",
       "      <th></th>\n",
       "      <th>user_id</th>\n",
       "      <th>distance</th>\n",
       "      <th>duration</th>\n",
       "      <th>date</th>\n",
       "      <th>month</th>\n",
       "      <th>year</th>\n",
       "      <th>name</th>\n",
       "      <th>age</th>\n",
       "      <th>city</th>\n",
       "      <th>subscription_type</th>\n",
       "      <th>minute_price</th>\n",
       "      <th>start_ride_price</th>\n",
       "      <th>subscription_fee</th>\n",
       "    </tr>\n",
       "  </thead>\n",
       "  <tbody>\n",
       "    <tr>\n",
       "      <th>0</th>\n",
       "      <td>1</td>\n",
       "      <td>4409.919140</td>\n",
       "      <td>25.599769</td>\n",
       "      <td>2021-01-01</td>\n",
       "      <td>1</td>\n",
       "      <td>2021</td>\n",
       "      <td>Кира</td>\n",
       "      <td>22</td>\n",
       "      <td>Тюмень</td>\n",
       "      <td>ultra</td>\n",
       "      <td>6</td>\n",
       "      <td>0</td>\n",
       "      <td>199</td>\n",
       "    </tr>\n",
       "    <tr>\n",
       "      <th>1</th>\n",
       "      <td>1</td>\n",
       "      <td>2617.592153</td>\n",
       "      <td>15.816871</td>\n",
       "      <td>2021-01-18</td>\n",
       "      <td>1</td>\n",
       "      <td>2021</td>\n",
       "      <td>Кира</td>\n",
       "      <td>22</td>\n",
       "      <td>Тюмень</td>\n",
       "      <td>ultra</td>\n",
       "      <td>6</td>\n",
       "      <td>0</td>\n",
       "      <td>199</td>\n",
       "    </tr>\n",
       "    <tr>\n",
       "      <th>2</th>\n",
       "      <td>1</td>\n",
       "      <td>754.159807</td>\n",
       "      <td>6.232113</td>\n",
       "      <td>2021-04-20</td>\n",
       "      <td>4</td>\n",
       "      <td>2021</td>\n",
       "      <td>Кира</td>\n",
       "      <td>22</td>\n",
       "      <td>Тюмень</td>\n",
       "      <td>ultra</td>\n",
       "      <td>6</td>\n",
       "      <td>0</td>\n",
       "      <td>199</td>\n",
       "    </tr>\n",
       "    <tr>\n",
       "      <th>3</th>\n",
       "      <td>1</td>\n",
       "      <td>2694.783254</td>\n",
       "      <td>18.511000</td>\n",
       "      <td>2021-08-11</td>\n",
       "      <td>8</td>\n",
       "      <td>2021</td>\n",
       "      <td>Кира</td>\n",
       "      <td>22</td>\n",
       "      <td>Тюмень</td>\n",
       "      <td>ultra</td>\n",
       "      <td>6</td>\n",
       "      <td>0</td>\n",
       "      <td>199</td>\n",
       "    </tr>\n",
       "    <tr>\n",
       "      <th>4</th>\n",
       "      <td>1</td>\n",
       "      <td>4028.687306</td>\n",
       "      <td>26.265803</td>\n",
       "      <td>2021-08-28</td>\n",
       "      <td>8</td>\n",
       "      <td>2021</td>\n",
       "      <td>Кира</td>\n",
       "      <td>22</td>\n",
       "      <td>Тюмень</td>\n",
       "      <td>ultra</td>\n",
       "      <td>6</td>\n",
       "      <td>0</td>\n",
       "      <td>199</td>\n",
       "    </tr>\n",
       "  </tbody>\n",
       "</table>\n",
       "</div>"
      ],
      "text/plain": [
       "   user_id     distance   duration       date  month  year  name  age    city  \\\n",
       "0        1  4409.919140  25.599769 2021-01-01      1  2021  Кира   22  Тюмень   \n",
       "1        1  2617.592153  15.816871 2021-01-18      1  2021  Кира   22  Тюмень   \n",
       "2        1   754.159807   6.232113 2021-04-20      4  2021  Кира   22  Тюмень   \n",
       "3        1  2694.783254  18.511000 2021-08-11      8  2021  Кира   22  Тюмень   \n",
       "4        1  4028.687306  26.265803 2021-08-28      8  2021  Кира   22  Тюмень   \n",
       "\n",
       "  subscription_type  minute_price  start_ride_price  subscription_fee  \n",
       "0             ultra             6                 0               199  \n",
       "1             ultra             6                 0               199  \n",
       "2             ultra             6                 0               199  \n",
       "3             ultra             6                 0               199  \n",
       "4             ultra             6                 0               199  "
      ]
     },
     "metadata": {},
     "output_type": "display_data"
    }
   ],
   "source": [
    "# merge ride and users \n",
    "ride_users_df = rides.merge(users, on='user_id', how='left')\n",
    "#merge ride_users_df with subscr \n",
    "total_df = ride_users_df.merge(subscr,on = 'subscription_type', how='left')\n",
    "#check results \n",
    "display(total_df.head())"
   ]
  },
  {
   "cell_type": "code",
   "execution_count": 29,
   "id": "d1993723",
   "metadata": {
    "scrolled": true
   },
   "outputs": [
    {
     "name": "stdout",
     "output_type": "stream",
     "text": [
      "Number of rows after merging in total_df: 18068\n"
     ]
    }
   ],
   "source": [
    "print('Number of rows after merging in total_df:',len(total_df))"
   ]
  },
  {
   "cell_type": "markdown",
   "id": "fb98cf41",
   "metadata": {},
   "source": [
    "The number of rows is equal to the number of rides, because there was a left join applied for rides dataset"
   ]
  },
  {
   "cell_type": "code",
   "execution_count": 30,
   "id": "3e5e13da",
   "metadata": {},
   "outputs": [
    {
     "data": {
      "text/plain": [
       "user_id              0\n",
       "distance             0\n",
       "duration             0\n",
       "date                 0\n",
       "month                0\n",
       "year                 0\n",
       "name                 0\n",
       "age                  0\n",
       "city                 0\n",
       "subscription_type    0\n",
       "minute_price         0\n",
       "start_ride_price     0\n",
       "subscription_fee     0\n",
       "dtype: int64"
      ]
     },
     "metadata": {},
     "output_type": "display_data"
    }
   ],
   "source": [
    "display(total_df.isnull().sum()) "
   ]
  },
  {
   "cell_type": "markdown",
   "id": "f13792ff",
   "metadata": {},
   "source": [
    "No missing values identified"
   ]
  },
  {
   "cell_type": "markdown",
   "id": "169c7ced",
   "metadata": {},
   "source": [
    "##### Create two data sets with user data with and w/o subscription"
   ]
  },
  {
   "cell_type": "code",
   "execution_count": 31,
   "id": "fbaa89a8",
   "metadata": {},
   "outputs": [],
   "source": [
    "free_df = total_df[total_df['subscription_type'] == 'free']\n",
    "ultra_df = total_df[total_df['subscription_type'] == 'ultra']"
   ]
  },
  {
   "cell_type": "markdown",
   "id": "507857b0",
   "metadata": {},
   "source": [
    "##### Create visualization for duration and distance for users in both categories "
   ]
  },
  {
   "cell_type": "code",
   "execution_count": 32,
   "id": "d3e6a4d3",
   "metadata": {},
   "outputs": [
    {
     "name": "stdout",
     "output_type": "stream",
     "text": [
      "6500\n",
      "11568\n"
     ]
    }
   ],
   "source": [
    "print(len(ultra_df['duration']))\n",
    "print(len(free_df['duration']))"
   ]
  },
  {
   "cell_type": "code",
   "execution_count": 33,
   "id": "339d57be",
   "metadata": {},
   "outputs": [
    {
     "data": {
      "image/png": "[encoded data removed]",
      "text/plain": [
       "<Figure size 1000x800 with 2 Axes>"
      ]
     },
     "metadata": {},
     "output_type": "display_data"
    }
   ],
   "source": [
    "fig, axes = plt.subplots(1, 2, figsize=(10, 8))\n",
    "\n",
    "axes[0].hist(ultra_df['duration'], bins=20, alpha=0.5, label='Duration Ultra', color='blue')\n",
    "axes[0].hist(free_df['duration'], bins=20, alpha=0.5, label='Distance Free', color='orange')\n",
    "\n",
    "axes[0].set_title('Ride Duration Distrubution')\n",
    "axes[0].set_xlabel('Duration (minutes)')\n",
    "axes[0].set_ylabel('Ride Frequency')\n",
    "axes[0].legend(loc='upper right')\n",
    "axes[0].grid(axis='x')\n",
    "\n",
    "axes[1].hist(ultra_df['distance'], bins=20, alpha=0.5, label='Distance Ultra', color='blue')\n",
    "axes[1].hist(free_df['distance'], bins=20, alpha=0.5, label=' Distance Free', color='orange')\n",
    "\n",
    "axes[1].set_title('Ride Distance Distrubution')\n",
    "axes[1].set_xlabel('Distance (meters)')\n",
    "axes[1].set_ylabel('Ride Frequency')\n",
    "axes[1].legend(loc='upper right')\n",
    "axes[1].grid(axis='x')\n",
    "\n",
    "plt.show()"
   ]
  },
  {
   "cell_type": "markdown",
   "id": "878a237d",
   "metadata": {},
   "source": [
    "The two graphs of duration and distance of rides show that in general users with and without subscription travel approximately the same distance in total, the same can be said about time. The difference can be seen in the volume of data, as we have more frequent use of the service by non-subscribed users \n",
    "\n",
    "\n"
   ]
  },
  {
   "cell_type": "markdown",
   "id": "d0d5f29f",
   "metadata": {},
   "source": [
    "#### Calculate Revenue"
   ]
  },
  {
   "cell_type": "markdown",
   "id": "fb7031fe",
   "metadata": {},
   "source": [
    "##### Create data set with aggregated data about the rides based on data set created in Step 4. Find total distance, number of rides, and total time for each user per month"
   ]
  },
  {
   "cell_type": "markdown",
   "id": "4b92c9b1",
   "metadata": {},
   "source": [
    "Round the distance and duration in total_df"
   ]
  },
  {
   "cell_type": "code",
   "execution_count": 34,
   "id": "c3d84975",
   "metadata": {},
   "outputs": [],
   "source": [
    "total_df['duration'] = np.ceil(total_df['duration']) \n",
    "total_df['distance'] = np.ceil(total_df['distance']) "
   ]
  },
  {
   "cell_type": "markdown",
   "id": "0e212f10",
   "metadata": {},
   "source": [
    "Create an aggregated table, rename the columns "
   ]
  },
  {
   "cell_type": "code",
   "execution_count": 35,
   "id": "dddeb263",
   "metadata": {},
   "outputs": [
    {
     "data": {
      "text/html": [
       "<div>\n",
       "<style scoped>\n",
       "    .dataframe tbody tr th:only-of-type {\n",
       "        vertical-align: middle;\n",
       "    }\n",
       "\n",
       "    .dataframe tbody tr th {\n",
       "        vertical-align: top;\n",
       "    }\n",
       "\n",
       "    .dataframe thead th {\n",
       "        text-align: right;\n",
       "    }\n",
       "</style>\n",
       "<table border=\"1\" class=\"dataframe\">\n",
       "  <thead>\n",
       "    <tr style=\"text-align: right;\">\n",
       "      <th></th>\n",
       "      <th>user_id</th>\n",
       "      <th>month</th>\n",
       "      <th>subscription_type</th>\n",
       "      <th>start_ride_price</th>\n",
       "      <th>minute_price</th>\n",
       "      <th>subscription_fee</th>\n",
       "      <th>total_rides</th>\n",
       "      <th>total distance</th>\n",
       "      <th>total_duration</th>\n",
       "    </tr>\n",
       "  </thead>\n",
       "  <tbody>\n",
       "    <tr>\n",
       "      <th>0</th>\n",
       "      <td>1</td>\n",
       "      <td>1</td>\n",
       "      <td>ultra</td>\n",
       "      <td>0</td>\n",
       "      <td>6</td>\n",
       "      <td>199</td>\n",
       "      <td>2</td>\n",
       "      <td>7028.0</td>\n",
       "      <td>42.0</td>\n",
       "    </tr>\n",
       "    <tr>\n",
       "      <th>1</th>\n",
       "      <td>1</td>\n",
       "      <td>4</td>\n",
       "      <td>ultra</td>\n",
       "      <td>0</td>\n",
       "      <td>6</td>\n",
       "      <td>199</td>\n",
       "      <td>1</td>\n",
       "      <td>755.0</td>\n",
       "      <td>7.0</td>\n",
       "    </tr>\n",
       "    <tr>\n",
       "      <th>2</th>\n",
       "      <td>1</td>\n",
       "      <td>8</td>\n",
       "      <td>ultra</td>\n",
       "      <td>0</td>\n",
       "      <td>6</td>\n",
       "      <td>199</td>\n",
       "      <td>2</td>\n",
       "      <td>6724.0</td>\n",
       "      <td>46.0</td>\n",
       "    </tr>\n",
       "    <tr>\n",
       "      <th>3</th>\n",
       "      <td>1</td>\n",
       "      <td>10</td>\n",
       "      <td>ultra</td>\n",
       "      <td>0</td>\n",
       "      <td>6</td>\n",
       "      <td>199</td>\n",
       "      <td>2</td>\n",
       "      <td>5811.0</td>\n",
       "      <td>32.0</td>\n",
       "    </tr>\n",
       "    <tr>\n",
       "      <th>4</th>\n",
       "      <td>1</td>\n",
       "      <td>11</td>\n",
       "      <td>ultra</td>\n",
       "      <td>0</td>\n",
       "      <td>6</td>\n",
       "      <td>199</td>\n",
       "      <td>3</td>\n",
       "      <td>7005.0</td>\n",
       "      <td>56.0</td>\n",
       "    </tr>\n",
       "  </tbody>\n",
       "</table>\n",
       "</div>"
      ],
      "text/plain": [
       "   user_id  month subscription_type  start_ride_price  minute_price  \\\n",
       "0        1      1             ultra                 0             6   \n",
       "1        1      4             ultra                 0             6   \n",
       "2        1      8             ultra                 0             6   \n",
       "3        1     10             ultra                 0             6   \n",
       "4        1     11             ultra                 0             6   \n",
       "\n",
       "   subscription_fee  total_rides  total distance  total_duration  \n",
       "0               199            2          7028.0            42.0  \n",
       "1               199            1           755.0             7.0  \n",
       "2               199            2          6724.0            46.0  \n",
       "3               199            2          5811.0            32.0  \n",
       "4               199            3          7005.0            56.0  "
      ]
     },
     "metadata": {},
     "output_type": "display_data"
    }
   ],
   "source": [
    "total_agg = total_df.pivot_table(\n",
    "    index = ['user_id', 'month', 'subscription_type', 'start_ride_price', 'minute_price', 'subscription_fee' ],\n",
    "    values = ['distance',  'duration', 'date'], \n",
    "    aggfunc={'distance': 'sum',\n",
    "        'duration': 'sum',\n",
    "        'date': 'count'}\n",
    "    \n",
    "    )\n",
    "\n",
    "total_agg = total_agg.rename(columns={\n",
    "    'date': 'total_rides',\n",
    "    'duration': 'total_duration',\n",
    "    'distance': 'total distance'\n",
    "})\n",
    "\n",
    "\n",
    "total_agg = total_agg.reset_index()\n",
    "\n",
    "display(total_agg.head() )"
   ]
  },
  {
   "cell_type": "markdown",
   "id": "ed1ef211",
   "metadata": {},
   "source": [
    "#####  Add a new column in this dataset with the monlthly revenue per user "
   ]
  },
  {
   "cell_type": "code",
   "execution_count": 36,
   "id": "add74295",
   "metadata": {
    "scrolled": true
   },
   "outputs": [
    {
     "data": {
      "text/html": [
       "<div>\n",
       "<style scoped>\n",
       "    .dataframe tbody tr th:only-of-type {\n",
       "        vertical-align: middle;\n",
       "    }\n",
       "\n",
       "    .dataframe tbody tr th {\n",
       "        vertical-align: top;\n",
       "    }\n",
       "\n",
       "    .dataframe thead th {\n",
       "        text-align: right;\n",
       "    }\n",
       "</style>\n",
       "<table border=\"1\" class=\"dataframe\">\n",
       "  <thead>\n",
       "    <tr style=\"text-align: right;\">\n",
       "      <th></th>\n",
       "      <th>user_id</th>\n",
       "      <th>month</th>\n",
       "      <th>subscription_type</th>\n",
       "      <th>start_ride_price</th>\n",
       "      <th>minute_price</th>\n",
       "      <th>subscription_fee</th>\n",
       "      <th>total_rides</th>\n",
       "      <th>total distance</th>\n",
       "      <th>total_duration</th>\n",
       "      <th>total_revenue</th>\n",
       "    </tr>\n",
       "  </thead>\n",
       "  <tbody>\n",
       "    <tr>\n",
       "      <th>0</th>\n",
       "      <td>1</td>\n",
       "      <td>1</td>\n",
       "      <td>ultra</td>\n",
       "      <td>0</td>\n",
       "      <td>6</td>\n",
       "      <td>199</td>\n",
       "      <td>2</td>\n",
       "      <td>7028.0</td>\n",
       "      <td>42.0</td>\n",
       "      <td>451.0</td>\n",
       "    </tr>\n",
       "    <tr>\n",
       "      <th>1</th>\n",
       "      <td>1</td>\n",
       "      <td>4</td>\n",
       "      <td>ultra</td>\n",
       "      <td>0</td>\n",
       "      <td>6</td>\n",
       "      <td>199</td>\n",
       "      <td>1</td>\n",
       "      <td>755.0</td>\n",
       "      <td>7.0</td>\n",
       "      <td>241.0</td>\n",
       "    </tr>\n",
       "    <tr>\n",
       "      <th>2</th>\n",
       "      <td>1</td>\n",
       "      <td>8</td>\n",
       "      <td>ultra</td>\n",
       "      <td>0</td>\n",
       "      <td>6</td>\n",
       "      <td>199</td>\n",
       "      <td>2</td>\n",
       "      <td>6724.0</td>\n",
       "      <td>46.0</td>\n",
       "      <td>475.0</td>\n",
       "    </tr>\n",
       "    <tr>\n",
       "      <th>3</th>\n",
       "      <td>1</td>\n",
       "      <td>10</td>\n",
       "      <td>ultra</td>\n",
       "      <td>0</td>\n",
       "      <td>6</td>\n",
       "      <td>199</td>\n",
       "      <td>2</td>\n",
       "      <td>5811.0</td>\n",
       "      <td>32.0</td>\n",
       "      <td>391.0</td>\n",
       "    </tr>\n",
       "    <tr>\n",
       "      <th>4</th>\n",
       "      <td>1</td>\n",
       "      <td>11</td>\n",
       "      <td>ultra</td>\n",
       "      <td>0</td>\n",
       "      <td>6</td>\n",
       "      <td>199</td>\n",
       "      <td>3</td>\n",
       "      <td>7005.0</td>\n",
       "      <td>56.0</td>\n",
       "      <td>535.0</td>\n",
       "    </tr>\n",
       "  </tbody>\n",
       "</table>\n",
       "</div>"
      ],
      "text/plain": [
       "   user_id  month subscription_type  start_ride_price  minute_price  \\\n",
       "0        1      1             ultra                 0             6   \n",
       "1        1      4             ultra                 0             6   \n",
       "2        1      8             ultra                 0             6   \n",
       "3        1     10             ultra                 0             6   \n",
       "4        1     11             ultra                 0             6   \n",
       "\n",
       "   subscription_fee  total_rides  total distance  total_duration  \\\n",
       "0               199            2          7028.0            42.0   \n",
       "1               199            1           755.0             7.0   \n",
       "2               199            2          6724.0            46.0   \n",
       "3               199            2          5811.0            32.0   \n",
       "4               199            3          7005.0            56.0   \n",
       "\n",
       "   total_revenue  \n",
       "0          451.0  \n",
       "1          241.0  \n",
       "2          475.0  \n",
       "3          391.0  \n",
       "4          535.0  "
      ]
     },
     "metadata": {},
     "output_type": "display_data"
    }
   ],
   "source": [
    "total_agg['total_revenue'] = (total_agg['start_ride_price'] * total_agg['total_rides']) +  (total_agg['minute_price'] * total_agg['total_duration']) + total_agg['subscription_fee']\n",
    "display(total_agg.head() )"
   ]
  },
  {
   "cell_type": "code",
   "execution_count": 38,
   "id": "39f368be",
   "metadata": {},
   "outputs": [
    {
     "data": {
      "text/plain": [
       "subscription_type\n",
       "free     2250064.0\n",
       "ultra    1644537.0\n",
       "Name: total_revenue, dtype: float64"
      ]
     },
     "metadata": {},
     "output_type": "display_data"
    },
    {
     "data": {
      "image/png": "[encoded data removed]",
      "text/plain": [
       "<Figure size 640x480 with 1 Axes>"
      ]
     },
     "metadata": {},
     "output_type": "display_data"
    }
   ],
   "source": [
    "revenue_analysis = total_agg.groupby('subscription_type')['total_revenue'].sum()\n",
    "display(revenue_analysis)\n",
    "plt.bar(revenue_analysis.index, revenue_analysis.values)\n",
    "\n",
    "plt.xlabel('Subscription type')\n",
    "plt.ylabel('Revenue')\n",
    "plt.title('Revenue based on subscription type')\n",
    "plt.grid(axis='y') \n",
    "\n",
    "plt.show()"
   ]
  },
  {
   "cell_type": "markdown",
   "id": "627b1442",
   "metadata": {},
   "source": [
    "\n",
    "\n",
    "\n",
    "Here we have analyzed revenue depending on subscription type. We can observe that users without subscription bring more revenue than those who are using subscription. "
   ]
  },
  {
   "cell_type": "markdown",
   "id": "1809980c",
   "metadata": {},
   "source": [
    "####  Hypothesis Testing "
   ]
  },
  {
   "cell_type": "markdown",
   "id": "0c27e30f",
   "metadata": {},
   "source": [
    "The product managers of the service want to increase the number of subscribed users. To achieve this, they will conduct various promotions, but first, they need to determine a few important points."
   ]
  },
  {
   "cell_type": "markdown",
   "id": "24b938b7",
   "metadata": {},
   "source": [
    "#####  It is important to understand whether subscribed users spend more time on rides. If so, subscribed users might be more \"profitable\" for the company. Test this hypothesis."
   ]
  },
  {
   "cell_type": "markdown",
   "id": "8678dc7b",
   "metadata": {},
   "source": [
    "How to choose a test? There are two samples (with-subscription and without) that are independent of each other, so the test will be conducted by t-test for independent samples (scipy.stats.ttest.ind)\n",
    "\n",
    "H0 - Users with subscription spend the same amount of time or less time traveling than  users without subscription\n",
    "\n",
    "H1 - (Right-sided hypothesis) Users with subscription spend more time traveling than users without subscription."
   ]
  },
  {
   "cell_type": "code",
   "execution_count": 39,
   "id": "80b1444c",
   "metadata": {},
   "outputs": [
    {
     "name": "stdout",
     "output_type": "stream",
     "text": [
      "p-value: 1.6681842806080727e-26\n",
      "Rejecting the null hypothesis\n"
     ]
    }
   ],
   "source": [
    "# significance level \n",
    "alpha = 0.05\n",
    "\n",
    "results = st.ttest_ind(ultra_df['duration'], free_df['duration'], alternative='greater')\n",
    "\n",
    "print(f'p-value: {results.pvalue}')\n",
    "\n",
    "# check p-value\n",
    "if results.pvalue < alpha:\n",
    "    print('Rejecting the null hypothesis')\n",
    "else:\n",
    "        print('There is no reason to reject the null hypothesis')\n",
    "\n"
   ]
  },
  {
   "cell_type": "markdown",
   "id": "02cbe197",
   "metadata": {},
   "source": [
    "It turns out that users with subscription spend more time on a trip than non-subscribed users. It can be concluded that subscribed users are more profitable for the company than non-subscribed users. "
   ]
  },
  {
   "cell_type": "markdown",
   "id": "3e23bf73",
   "metadata": {},
   "source": [
    "#####  The distance of one trip is 3130 meters. 3130 meters is optimal in terms of scooter wear and tear. Can it be said that the average distance traveled by subscribed users per trip does not exceed 3130 meters?"
   ]
  },
  {
   "cell_type": "markdown",
   "id": "b05d52a1",
   "metadata": {},
   "source": [
    "How to choose a test? \n",
    "There is a single data sample (with subscription), so the test will be conducted t-test about the equality of the mean of the general population to a certain number (scipy.stats.ttest.1samp)\n",
    "\n",
    "H0 - Average distance traveled by the user with a subscription is equal to or less than 3130 meters \n",
    "\n",
    "H1 - (Right-sided hypothesis) Average distance traveled by the user with a subscription is greater than 3130 meters"
   ]
  },
  {
   "cell_type": "code",
   "execution_count": 40,
   "id": "274b693b",
   "metadata": {
    "scrolled": true
   },
   "outputs": [
    {
     "name": "stdout",
     "output_type": "stream",
     "text": [
      "p-значение: 0.29994543469720036\n",
      "There is no reason to reject the null hypothesis\n"
     ]
    }
   ],
   "source": [
    "ride_distance = 3110\n",
    "\n",
    "# significance level \n",
    "alpha = 0.05\n",
    "\n",
    "results = st.ttest_1samp(\n",
    "    ultra_df['distance'], \n",
    "    ride_distance,\n",
    "      alternative='greater')\n",
    "\n",
    "print('p-значение:', results.pvalue)\n",
    "\n",
    "if (results.pvalue < alpha):\n",
    "    print('Rejecting the null hypothesis')\n",
    "else:\n",
    "    print('There is no reason to reject the null hypothesis') "
   ]
  },
  {
   "cell_type": "markdown",
   "id": "12b50666",
   "metadata": {},
   "source": [
    "It turns out that the average distance traveled by a user with a subscription is equal to or less than 3130 meters. "
   ]
  },
  {
   "cell_type": "markdown",
   "id": "7de9d359",
   "metadata": {},
   "source": [
    "##### Test the hypothesis that the monthly revenue from subscribed users will be higher than the revenue from non-subscribed users. "
   ]
  },
  {
   "cell_type": "markdown",
   "id": "5c25c348",
   "metadata": {},
   "source": [
    "How to choose a test? \n",
    "There are two samples (with-subscription and non-subscription) that are independent of each other, so the test will be conducted by t-test for independent samples (scipy.stats.ttest.ind)\n",
    "\n",
    "H0 - Monthly revenue from users with subscription is the same or less than that from users without subscription\n",
    "\n",
    "H1 - (Right-sided hypothesis) Monthly revenue from subscription users is greater than monthly revenue from non-subscription users."
   ]
  },
  {
   "cell_type": "code",
   "execution_count": 41,
   "id": "d73e6d8e",
   "metadata": {},
   "outputs": [],
   "source": [
    "#prepare two datasets with ultra and free subscription tyes from aggragated table having total_revenue column \n",
    "\n",
    "ultra_revenue = total_agg.query('subscription_type ==\"ultra\"')\n",
    "free_revenue = total_agg.query('subscription_type ==\"free\"')\n",
    "\n"
   ]
  },
  {
   "cell_type": "code",
   "execution_count": 42,
   "id": "1579a882",
   "metadata": {},
   "outputs": [
    {
     "name": "stdout",
     "output_type": "stream",
     "text": [
      "p-value: 1.965468890419924e-27\n",
      "Rejecting the null hypothesis\n"
     ]
    }
   ],
   "source": [
    "#do the hypothesis test \n",
    "\n",
    "# significance level \n",
    "alpha = 0.05\n",
    "\n",
    "results = st.ttest_ind(ultra_revenue['total_revenue'], free_revenue['total_revenue'], alternative='greater')\n",
    "\n",
    "print(f'p-value: {results.pvalue}')\n",
    "\n",
    "# check p-value\n",
    "if results.pvalue < alpha:\n",
    "    print('Rejecting the null hypothesis')\n",
    "else:\n",
    "        print('There is no reason to reject the null hypothesis')\n",
    "\n"
   ]
  },
  {
   "cell_type": "markdown",
   "id": "ee0ac697",
   "metadata": {},
   "source": [
    "We conclude that the monthly revenue from users with a subscription is greater than the monthly revenue from users without a subscription. This is another indicator in favor of using subscriptions. "
   ]
  },
  {
   "cell_type": "markdown",
   "id": "86d5c821",
   "metadata": {},
   "source": [
    "##### Imagine this situation: the service's technical team has updated the servers that the mobile application interacts with. They hope that, as a result, the number of support requests has significantly decreased. A certain file contains data for each user on the number of requests before and after the update. What test would you need to check this hypothesis?"
   ]
  },
  {
   "cell_type": "markdown",
   "id": "5867450a",
   "metadata": {},
   "source": [
    "\n",
    "A two-sample t-test for dependent samples will work here. Since we have one GS (file with references), in which there were changes (number of references).Method from scipy library: scipy.stats.ttest_rel()"
   ]
  },
  {
   "cell_type": "markdown",
   "id": "ac54c812",
   "metadata": {},
   "source": [
    "####  Distributions"
   ]
  },
  {
   "cell_type": "markdown",
   "id": "7fa164d3",
   "metadata": {},
   "source": [
    "##### GoFast's marketing department has been given a task: they need to run a promotion giving away promo codes for one free month's subscription"
   ]
  },
  {
   "cell_type": "markdown",
   "id": "3ae78f7a",
   "metadata": {},
   "source": [
    "GoFast's marketing department was given a task: they needed to run a promotion with promo codes for one free month of subscription, within which at least 100 existing customers had to renew the subscription. That is, at the end of the subscription period, the user can either cancel the subscription or renew it by making the appropriate payment. This promotion has been run before and it was found that 10% of users renew their subscription after the free trial period. Find out what is the minimum number of promo codes to send out so that the probability of failing to fulfill the plan is about 5%. Find the parameters of the distribution that describes this situation, plot the distribution, and formulate an answer to the question about the number of promo codes."
   ]
  },
  {
   "cell_type": "code",
   "execution_count": 43,
   "id": "6f9ae7ae",
   "metadata": {},
   "outputs": [
    {
     "name": "stdout",
     "output_type": "stream",
     "text": [
      "The number of promcodes that need to be sent to have a 5% chance of failing the plan: 1172\n"
     ]
    }
   ],
   "source": [
    "p = 0.1\n",
    "goal = 100 \n",
    "p_fail = 0.05\n",
    "n = goal \n",
    "while True: \n",
    "    probability = binom.cdf(goal,n,p)\n",
    "    if probability <= p_fail:\n",
    "        break\n",
    "    n+=1\n",
    "print('The number of promcodes that need to be sent to have a 5% chance of failing the plan:',n)"
   ]
  },
  {
   "cell_type": "markdown",
   "id": "8c29409a",
   "metadata": {},
   "source": [
    "##### The marketing department sends push notifications to customers in a mobile app. Customers may or may not open it. Using approximation, construct an approximate distribution graph and estimate the probability that no more than 399.5 thousand users will open the notification.\n"
   ]
  },
  {
   "cell_type": "markdown",
   "id": "b0958be7",
   "metadata": {},
   "source": [
    "The marketing department sends push notifications to customers in a mobile app. Customers can open it or not. It is known that the notifications are opened by about 40% of the customers who receive them. The department plans to send out 1 million notifications. Using approximation, construct an approximate distribution graph and estimate the probability that no more than 399.5 thousand users will open the notification.\n",
    "\n",
    "The probability that no more than 399,500 users will open the notification is about 0.05%."
   ]
  },
  {
   "cell_type": "code",
   "execution_count": 45,
   "id": "33579f34",
   "metadata": {},
   "outputs": [
    {
     "data": {
      "text/plain": [
       "0.15371708296369768"
      ]
     },
     "execution_count": 45,
     "metadata": {},
     "output_type": "execute_result"
    }
   ],
   "source": [
    "n = 1000000\n",
    "p = 0.4\n",
    "\n",
    "# зададим мат.ожидание и ст.отклонение нормального распределения равными\n",
    "# мат.ожиданию и ст.отклонению биномиального распределения\n",
    "mu = n * p\n",
    "sigma = sqrt(n * p * (1 - p))\n",
    "\n",
    "\n",
    "# normal distribution \n",
    "distr = st.norm(mu, sigma)\n",
    "# calculate probability\n",
    "result = distr.cdf(399500)\n",
    "result"
   ]
  },
  {
   "cell_type": "markdown",
   "id": "eec15c59",
   "metadata": {},
   "source": [
    "#### Conclusion"
   ]
  },
  {
   "cell_type": "markdown",
   "id": "8d923360",
   "metadata": {},
   "source": [
    "\n",
    "\n",
    "\n",
    "In this research, we have analyzed the data from the GoFast scooter rental service. The data was prepared for analysis by converting data types, checking for missing values, cleaning duplicates, and introducing additional columns for further analysis.\n",
    "\n",
    "***Key Findings from Chapter Three:***\n",
    "\n",
    "1. **Cities with Highest Scooter Usage**:\n",
    "   - The most frequent scooter usage was observed in Ekaterinburg and Pyatigorsk.\n",
    "\n",
    "2. **User Subscription Analysis**:\n",
    "   - The total number of users without a subscription exceeds those with a subscription by approximately 10%.\n",
    "\n",
    "3. **User Demographics**:\n",
    "   - The average age of users is 25 years.\n",
    "\n",
    "4. **Riding Distance**:\n",
    "   - The typical distances ridden by users are around 700 meters and 3100 meters, indicating both short and long-distance rides.\n",
    "\n",
    "5. **Ride Duration**:\n",
    "   - The average duration of a ride is approximately 17-19 minutes.\n",
    "\n",
    "***Further Analysis:***\n",
    "\n",
    "We merged the datasets to analyze the following parameters for different types of user subscriptions: duration, distance, and revenue.\n",
    "\n",
    " ***Conclusions:***\n",
    "- **Ride Duration and Distance**:\n",
    "  - Users with an ultra subscription tend to ride less in terms of both distance and duration compared to users without a subscription.\n",
    "\n",
    "- **Revenue Analysis**:\n",
    "  - Although users without a subscription generated more total revenue, this is primarily due to the larger number of non-subscribed users in the dataset.\n",
    "\n",
    "***Hypothesis Testing:***\n",
    "\n",
    "To draw definitive conclusions, we tested several hypotheses and derived the following results:\n",
    "- Despite having more non-subscribed users, the t-test showed that users with subscriptions spend more time riding scooters.\n",
    "- Users with subscriptions contribute more revenue per user to the company.\n",
    "\n",
    "***Recommendations:***\n",
    "\n",
    "Based on these findings, we recommend that the company invest more in promoting the subscription option, as it has the potential to bring in more future profit.\n",
    "\n",
    "***Methodological Recommendations:***\n",
    "\n",
    "To avoid data misinterpretation, we suggest using t-tests rather than solely relying on graphical analysis for decision-making, as total numbers can be misleading.\n",
    "\n"
   ]
  }
 ],
 "metadata": {
  "ExecuteTimeLog": [
   {
    "duration": 994,
    "start_time": "2024-06-08T12:12:44.534Z"
   },
   {
    "duration": 141,
    "start_time": "2024-06-08T12:12:45.529Z"
   },
   {
    "duration": 0,
    "start_time": "2024-06-08T12:12:45.672Z"
   },
   {
    "duration": 0,
    "start_time": "2024-06-08T12:12:45.674Z"
   },
   {
    "duration": 0,
    "start_time": "2024-06-08T12:12:45.675Z"
   },
   {
    "duration": 0,
    "start_time": "2024-06-08T12:12:45.676Z"
   },
   {
    "duration": 0,
    "start_time": "2024-06-08T12:12:45.677Z"
   },
   {
    "duration": 0,
    "start_time": "2024-06-08T12:12:45.677Z"
   },
   {
    "duration": 0,
    "start_time": "2024-06-08T12:12:45.678Z"
   },
   {
    "duration": 0,
    "start_time": "2024-06-08T12:12:45.679Z"
   },
   {
    "duration": 0,
    "start_time": "2024-06-08T12:12:45.680Z"
   },
   {
    "duration": 0,
    "start_time": "2024-06-08T12:12:45.681Z"
   },
   {
    "duration": 0,
    "start_time": "2024-06-08T12:12:45.682Z"
   },
   {
    "duration": 0,
    "start_time": "2024-06-08T12:12:45.682Z"
   },
   {
    "duration": 0,
    "start_time": "2024-06-08T12:12:45.683Z"
   },
   {
    "duration": 0,
    "start_time": "2024-06-08T12:12:45.684Z"
   },
   {
    "duration": 0,
    "start_time": "2024-06-08T12:12:45.685Z"
   },
   {
    "duration": 0,
    "start_time": "2024-06-08T12:12:45.686Z"
   },
   {
    "duration": 0,
    "start_time": "2024-06-08T12:12:45.711Z"
   },
   {
    "duration": 0,
    "start_time": "2024-06-08T12:12:45.712Z"
   },
   {
    "duration": 0,
    "start_time": "2024-06-08T12:12:45.714Z"
   },
   {
    "duration": 0,
    "start_time": "2024-06-08T12:12:45.715Z"
   },
   {
    "duration": 0,
    "start_time": "2024-06-08T12:12:45.716Z"
   },
   {
    "duration": 0,
    "start_time": "2024-06-08T12:12:45.717Z"
   },
   {
    "duration": 0,
    "start_time": "2024-06-08T12:12:45.718Z"
   },
   {
    "duration": 0,
    "start_time": "2024-06-08T12:12:45.720Z"
   },
   {
    "duration": 0,
    "start_time": "2024-06-08T12:12:45.721Z"
   },
   {
    "duration": 0,
    "start_time": "2024-06-08T12:12:45.722Z"
   },
   {
    "duration": 0,
    "start_time": "2024-06-08T12:12:45.723Z"
   },
   {
    "duration": 0,
    "start_time": "2024-06-08T12:12:45.724Z"
   },
   {
    "duration": 0,
    "start_time": "2024-06-08T12:12:45.725Z"
   },
   {
    "duration": 61,
    "start_time": "2024-06-08T12:18:55.379Z"
   },
   {
    "duration": 41,
    "start_time": "2024-06-10T08:47:08.039Z"
   },
   {
    "duration": 1143,
    "start_time": "2024-06-10T08:47:25.150Z"
   },
   {
    "duration": 161,
    "start_time": "2024-06-10T08:47:29.188Z"
   },
   {
    "duration": 98,
    "start_time": "2024-06-10T08:47:59.310Z"
   },
   {
    "duration": 78,
    "start_time": "2024-06-10T08:48:02.534Z"
   },
   {
    "duration": 1022,
    "start_time": "2024-06-10T14:02:26.589Z"
   },
   {
    "duration": 98,
    "start_time": "2024-06-10T14:02:27.613Z"
   },
   {
    "duration": 13,
    "start_time": "2024-06-10T14:02:27.713Z"
   },
   {
    "duration": 72,
    "start_time": "2024-06-10T14:02:27.728Z"
   },
   {
    "duration": 10,
    "start_time": "2024-06-10T14:02:27.802Z"
   },
   {
    "duration": 77,
    "start_time": "2024-06-10T14:02:27.814Z"
   },
   {
    "duration": 13,
    "start_time": "2024-06-10T14:02:27.893Z"
   },
   {
    "duration": 33,
    "start_time": "2024-06-10T14:02:27.908Z"
   },
   {
    "duration": 14,
    "start_time": "2024-06-10T14:02:27.942Z"
   },
   {
    "duration": 8,
    "start_time": "2024-06-10T14:02:27.959Z"
   },
   {
    "duration": 115,
    "start_time": "2024-06-10T14:02:27.969Z"
   },
   {
    "duration": 0,
    "start_time": "2024-06-10T14:02:28.086Z"
   },
   {
    "duration": 0,
    "start_time": "2024-06-10T14:02:28.088Z"
   },
   {
    "duration": 0,
    "start_time": "2024-06-10T14:02:28.089Z"
   },
   {
    "duration": 0,
    "start_time": "2024-06-10T14:02:28.090Z"
   },
   {
    "duration": 0,
    "start_time": "2024-06-10T14:02:28.092Z"
   },
   {
    "duration": 0,
    "start_time": "2024-06-10T14:02:28.093Z"
   },
   {
    "duration": 0,
    "start_time": "2024-06-10T14:02:28.095Z"
   },
   {
    "duration": 0,
    "start_time": "2024-06-10T14:02:28.096Z"
   },
   {
    "duration": 0,
    "start_time": "2024-06-10T14:02:28.097Z"
   },
   {
    "duration": 0,
    "start_time": "2024-06-10T14:02:28.099Z"
   },
   {
    "duration": 0,
    "start_time": "2024-06-10T14:02:28.100Z"
   },
   {
    "duration": 0,
    "start_time": "2024-06-10T14:02:28.102Z"
   },
   {
    "duration": 0,
    "start_time": "2024-06-10T14:02:28.103Z"
   },
   {
    "duration": 0,
    "start_time": "2024-06-10T14:02:28.105Z"
   },
   {
    "duration": 0,
    "start_time": "2024-06-10T14:02:28.106Z"
   },
   {
    "duration": 0,
    "start_time": "2024-06-10T14:02:28.107Z"
   },
   {
    "duration": 0,
    "start_time": "2024-06-10T14:02:28.109Z"
   },
   {
    "duration": 0,
    "start_time": "2024-06-10T14:02:28.110Z"
   },
   {
    "duration": 0,
    "start_time": "2024-06-10T14:02:28.111Z"
   },
   {
    "duration": 0,
    "start_time": "2024-06-10T14:02:28.146Z"
   },
   {
    "duration": 43,
    "start_time": "2024-06-10T14:12:18.988Z"
   },
   {
    "duration": 1157,
    "start_time": "2024-06-10T14:12:29.042Z"
   },
   {
    "duration": 106,
    "start_time": "2024-06-10T14:13:05.959Z"
   },
   {
    "duration": 78,
    "start_time": "2024-06-10T14:17:07.141Z"
   },
   {
    "duration": 176,
    "start_time": "2024-06-10T14:19:14.975Z"
   },
   {
    "duration": 7,
    "start_time": "2024-06-10T14:36:20.199Z"
   },
   {
    "duration": 7,
    "start_time": "2024-06-10T14:37:53.163Z"
   },
   {
    "duration": 8,
    "start_time": "2024-06-10T14:38:02.246Z"
   },
   {
    "duration": 73,
    "start_time": "2024-06-10T14:38:58.605Z"
   },
   {
    "duration": 9,
    "start_time": "2024-06-10T14:39:12.054Z"
   },
   {
    "duration": 9,
    "start_time": "2024-06-10T14:39:27.421Z"
   },
   {
    "duration": 12,
    "start_time": "2024-06-10T14:40:04.866Z"
   },
   {
    "duration": 6,
    "start_time": "2024-06-10T14:40:23.931Z"
   },
   {
    "duration": 6,
    "start_time": "2024-06-10T14:40:38.925Z"
   },
   {
    "duration": 6,
    "start_time": "2024-06-10T14:41:21.398Z"
   },
   {
    "duration": 6,
    "start_time": "2024-06-10T14:42:25.965Z"
   },
   {
    "duration": 6,
    "start_time": "2024-06-10T14:43:49.327Z"
   },
   {
    "duration": 8,
    "start_time": "2024-06-10T14:43:55.582Z"
   },
   {
    "duration": 63,
    "start_time": "2024-06-10T14:44:30.695Z"
   },
   {
    "duration": 23,
    "start_time": "2024-06-10T14:44:44.834Z"
   },
   {
    "duration": 7,
    "start_time": "2024-06-10T14:49:34.084Z"
   },
   {
    "duration": 67,
    "start_time": "2024-06-10T14:50:21.839Z"
   },
   {
    "duration": 69,
    "start_time": "2024-06-10T14:51:19.454Z"
   },
   {
    "duration": 72,
    "start_time": "2024-06-10T14:51:39.142Z"
   },
   {
    "duration": 3,
    "start_time": "2024-06-10T14:53:27.875Z"
   },
   {
    "duration": 3,
    "start_time": "2024-06-10T14:54:18.434Z"
   },
   {
    "duration": 69,
    "start_time": "2024-06-10T14:55:06.014Z"
   },
   {
    "duration": 1006,
    "start_time": "2024-06-10T14:55:33.976Z"
   },
   {
    "duration": 46,
    "start_time": "2024-06-10T14:55:34.984Z"
   },
   {
    "duration": 9,
    "start_time": "2024-06-10T14:55:35.032Z"
   },
   {
    "duration": 22,
    "start_time": "2024-06-10T14:55:35.043Z"
   },
   {
    "duration": 8,
    "start_time": "2024-06-10T14:55:35.066Z"
   },
   {
    "duration": 29,
    "start_time": "2024-06-10T14:55:35.076Z"
   },
   {
    "duration": 8,
    "start_time": "2024-06-10T14:55:35.107Z"
   },
   {
    "duration": 32,
    "start_time": "2024-06-10T14:55:35.117Z"
   },
   {
    "duration": 10,
    "start_time": "2024-06-10T14:55:35.150Z"
   },
   {
    "duration": 17,
    "start_time": "2024-06-10T14:55:35.162Z"
   },
   {
    "duration": 19,
    "start_time": "2024-06-10T14:55:35.180Z"
   },
   {
    "duration": 16,
    "start_time": "2024-06-10T14:55:35.200Z"
   },
   {
    "duration": 5,
    "start_time": "2024-06-10T14:55:35.218Z"
   },
   {
    "duration": 72,
    "start_time": "2024-06-10T14:55:35.224Z"
   },
   {
    "duration": 0,
    "start_time": "2024-06-10T14:55:35.297Z"
   },
   {
    "duration": 0,
    "start_time": "2024-06-10T14:55:35.298Z"
   },
   {
    "duration": 0,
    "start_time": "2024-06-10T14:55:35.300Z"
   },
   {
    "duration": 0,
    "start_time": "2024-06-10T14:55:35.301Z"
   },
   {
    "duration": 0,
    "start_time": "2024-06-10T14:55:35.301Z"
   },
   {
    "duration": 0,
    "start_time": "2024-06-10T14:55:35.302Z"
   },
   {
    "duration": 0,
    "start_time": "2024-06-10T14:55:35.303Z"
   },
   {
    "duration": 0,
    "start_time": "2024-06-10T14:55:35.304Z"
   },
   {
    "duration": 0,
    "start_time": "2024-06-10T14:55:35.305Z"
   },
   {
    "duration": 0,
    "start_time": "2024-06-10T14:55:35.306Z"
   },
   {
    "duration": 0,
    "start_time": "2024-06-10T14:55:35.306Z"
   },
   {
    "duration": 0,
    "start_time": "2024-06-10T14:55:35.307Z"
   },
   {
    "duration": 0,
    "start_time": "2024-06-10T14:55:35.308Z"
   },
   {
    "duration": 0,
    "start_time": "2024-06-10T14:55:35.309Z"
   },
   {
    "duration": 0,
    "start_time": "2024-06-10T14:55:35.310Z"
   },
   {
    "duration": 0,
    "start_time": "2024-06-10T14:55:35.311Z"
   },
   {
    "duration": 991,
    "start_time": "2024-06-10T16:06:44.239Z"
   },
   {
    "duration": 44,
    "start_time": "2024-06-10T16:06:45.231Z"
   },
   {
    "duration": 81,
    "start_time": "2024-06-10T16:06:45.276Z"
   },
   {
    "duration": 64,
    "start_time": "2024-06-10T16:06:45.358Z"
   },
   {
    "duration": 8,
    "start_time": "2024-06-10T16:06:45.423Z"
   },
   {
    "duration": 18,
    "start_time": "2024-06-10T16:06:45.432Z"
   },
   {
    "duration": 8,
    "start_time": "2024-06-10T16:06:45.451Z"
   },
   {
    "duration": 6,
    "start_time": "2024-06-10T16:06:45.460Z"
   },
   {
    "duration": 16,
    "start_time": "2024-06-10T16:06:45.467Z"
   },
   {
    "duration": 10,
    "start_time": "2024-06-10T16:06:45.485Z"
   },
   {
    "duration": 6,
    "start_time": "2024-06-10T16:06:45.497Z"
   },
   {
    "duration": 3,
    "start_time": "2024-06-10T16:06:45.504Z"
   },
   {
    "duration": 12,
    "start_time": "2024-06-10T16:06:45.508Z"
   },
   {
    "duration": 102,
    "start_time": "2024-06-10T16:06:45.522Z"
   },
   {
    "duration": 115,
    "start_time": "2024-06-10T16:06:45.625Z"
   },
   {
    "duration": 150,
    "start_time": "2024-06-10T16:06:45.742Z"
   },
   {
    "duration": 168,
    "start_time": "2024-06-10T16:06:45.893Z"
   },
   {
    "duration": 162,
    "start_time": "2024-06-10T16:06:46.063Z"
   },
   {
    "duration": 18,
    "start_time": "2024-06-10T16:06:46.227Z"
   },
   {
    "duration": 8,
    "start_time": "2024-06-10T16:06:46.247Z"
   },
   {
    "duration": 517,
    "start_time": "2024-06-10T16:06:46.270Z"
   },
   {
    "duration": 34,
    "start_time": "2024-06-10T16:06:46.788Z"
   },
   {
    "duration": 10,
    "start_time": "2024-06-10T16:06:46.823Z"
   },
   {
    "duration": 4,
    "start_time": "2024-06-10T16:06:46.835Z"
   },
   {
    "duration": 5,
    "start_time": "2024-06-10T16:06:46.841Z"
   },
   {
    "duration": 28,
    "start_time": "2024-06-10T16:06:46.847Z"
   },
   {
    "duration": 4,
    "start_time": "2024-06-10T16:06:46.876Z"
   },
   {
    "duration": 216,
    "start_time": "2024-06-10T16:06:46.883Z"
   },
   {
    "duration": 273,
    "start_time": "2024-06-10T16:06:47.100Z"
   },
   {
    "duration": 8,
    "start_time": "2024-06-10T16:08:09.024Z"
   },
   {
    "duration": 18,
    "start_time": "2024-06-10T16:13:00.418Z"
   },
   {
    "duration": 11,
    "start_time": "2024-06-10T16:13:15.058Z"
   },
   {
    "duration": 11,
    "start_time": "2024-06-10T16:13:24.301Z"
   },
   {
    "duration": 16,
    "start_time": "2024-06-10T16:14:33.476Z"
   },
   {
    "duration": 6,
    "start_time": "2024-06-10T16:15:00.029Z"
   },
   {
    "duration": 3,
    "start_time": "2024-06-10T16:17:34.984Z"
   },
   {
    "duration": 6,
    "start_time": "2024-06-10T16:17:38.246Z"
   },
   {
    "duration": 1019,
    "start_time": "2024-06-10T16:18:33.860Z"
   },
   {
    "duration": 44,
    "start_time": "2024-06-10T16:18:34.880Z"
   },
   {
    "duration": 10,
    "start_time": "2024-06-10T16:18:34.926Z"
   },
   {
    "duration": 56,
    "start_time": "2024-06-10T16:18:34.937Z"
   },
   {
    "duration": 9,
    "start_time": "2024-06-10T16:18:34.994Z"
   },
   {
    "duration": 20,
    "start_time": "2024-06-10T16:18:35.004Z"
   },
   {
    "duration": 9,
    "start_time": "2024-06-10T16:18:35.025Z"
   },
   {
    "duration": 24,
    "start_time": "2024-06-10T16:18:35.035Z"
   },
   {
    "duration": 18,
    "start_time": "2024-06-10T16:18:35.060Z"
   },
   {
    "duration": 7,
    "start_time": "2024-06-10T16:18:35.080Z"
   },
   {
    "duration": 6,
    "start_time": "2024-06-10T16:18:35.088Z"
   },
   {
    "duration": 3,
    "start_time": "2024-06-10T16:18:35.096Z"
   },
   {
    "duration": 4,
    "start_time": "2024-06-10T16:18:35.100Z"
   },
   {
    "duration": 124,
    "start_time": "2024-06-10T16:18:35.105Z"
   },
   {
    "duration": 123,
    "start_time": "2024-06-10T16:18:35.230Z"
   },
   {
    "duration": 156,
    "start_time": "2024-06-10T16:18:35.354Z"
   },
   {
    "duration": 162,
    "start_time": "2024-06-10T16:18:35.511Z"
   },
   {
    "duration": 167,
    "start_time": "2024-06-10T16:18:35.675Z"
   },
   {
    "duration": 31,
    "start_time": "2024-06-10T16:18:35.844Z"
   },
   {
    "duration": 10,
    "start_time": "2024-06-10T16:18:35.877Z"
   },
   {
    "duration": 513,
    "start_time": "2024-06-10T16:18:35.888Z"
   },
   {
    "duration": 34,
    "start_time": "2024-06-10T16:18:36.403Z"
   },
   {
    "duration": 11,
    "start_time": "2024-06-10T16:18:36.438Z"
   },
   {
    "duration": 21,
    "start_time": "2024-06-10T16:18:36.451Z"
   },
   {
    "duration": 23,
    "start_time": "2024-06-10T16:18:36.473Z"
   },
   {
    "duration": 7,
    "start_time": "2024-06-10T16:18:36.497Z"
   },
   {
    "duration": 4,
    "start_time": "2024-06-10T16:18:36.505Z"
   },
   {
    "duration": 192,
    "start_time": "2024-06-10T16:18:36.512Z"
   },
   {
    "duration": 273,
    "start_time": "2024-06-10T16:18:36.706Z"
   },
   {
    "duration": 0,
    "start_time": "2024-06-10T16:18:36.980Z"
   },
   {
    "duration": 4,
    "start_time": "2024-06-10T16:18:44.243Z"
   },
   {
    "duration": 49,
    "start_time": "2024-06-10T18:30:00.259Z"
   },
   {
    "duration": 1211,
    "start_time": "2024-06-10T18:30:21.285Z"
   },
   {
    "duration": 55,
    "start_time": "2024-06-10T18:34:22.106Z"
   },
   {
    "duration": 98,
    "start_time": "2024-06-10T18:34:45.809Z"
   },
   {
    "duration": 12,
    "start_time": "2024-06-10T18:34:56.477Z"
   },
   {
    "duration": 11,
    "start_time": "2024-06-10T18:35:14.516Z"
   },
   {
    "duration": 17,
    "start_time": "2024-06-10T18:36:17.216Z"
   },
   {
    "duration": 14,
    "start_time": "2024-06-10T18:37:01.072Z"
   },
   {
    "duration": 15,
    "start_time": "2024-06-10T18:38:11.335Z"
   },
   {
    "duration": 16,
    "start_time": "2024-06-10T18:38:49.154Z"
   },
   {
    "duration": 8,
    "start_time": "2024-06-10T18:40:11.134Z"
   },
   {
    "duration": 77,
    "start_time": "2024-06-10T18:40:26.070Z"
   },
   {
    "duration": 74,
    "start_time": "2024-06-10T18:40:44.066Z"
   },
   {
    "duration": 8,
    "start_time": "2024-06-10T18:40:51.967Z"
   },
   {
    "duration": 11,
    "start_time": "2024-06-10T18:41:07.684Z"
   },
   {
    "duration": 4,
    "start_time": "2024-06-10T18:42:33.673Z"
   },
   {
    "duration": 9,
    "start_time": "2024-06-10T18:50:35.952Z"
   },
   {
    "duration": 104,
    "start_time": "2024-06-10T18:50:58.963Z"
   },
   {
    "duration": 9,
    "start_time": "2024-06-10T18:53:52.620Z"
   },
   {
    "duration": 131,
    "start_time": "2024-06-10T18:58:33.437Z"
   },
   {
    "duration": 130,
    "start_time": "2024-06-10T18:59:30.786Z"
   },
   {
    "duration": 138,
    "start_time": "2024-06-10T19:00:33.319Z"
   },
   {
    "duration": 127,
    "start_time": "2024-06-10T19:01:02.236Z"
   },
   {
    "duration": 78,
    "start_time": "2024-06-10T19:03:46.235Z"
   },
   {
    "duration": 81,
    "start_time": "2024-06-10T19:04:29.535Z"
   },
   {
    "duration": 73,
    "start_time": "2024-06-10T19:04:45.734Z"
   },
   {
    "duration": 68,
    "start_time": "2024-06-10T19:05:20.537Z"
   },
   {
    "duration": 161,
    "start_time": "2024-06-10T19:06:10.986Z"
   },
   {
    "duration": 269,
    "start_time": "2024-06-10T19:12:56.668Z"
   },
   {
    "duration": 170,
    "start_time": "2024-06-10T19:17:21.323Z"
   },
   {
    "duration": 174,
    "start_time": "2024-06-10T19:21:43.366Z"
   },
   {
    "duration": 16,
    "start_time": "2024-06-10T19:49:16.425Z"
   },
   {
    "duration": 10,
    "start_time": "2024-06-10T19:49:49.622Z"
   },
   {
    "duration": 14,
    "start_time": "2024-06-10T19:50:20.930Z"
   },
   {
    "duration": 10,
    "start_time": "2024-06-10T19:51:34.127Z"
   },
   {
    "duration": 15,
    "start_time": "2024-06-10T19:51:56.251Z"
   },
   {
    "duration": 13,
    "start_time": "2024-06-10T19:53:25.763Z"
   },
   {
    "duration": 16,
    "start_time": "2024-06-10T20:00:20.809Z"
   },
   {
    "duration": 10,
    "start_time": "2024-06-10T20:02:05.227Z"
   },
   {
    "duration": 8,
    "start_time": "2024-06-10T20:03:27.467Z"
   },
   {
    "duration": 9,
    "start_time": "2024-06-10T20:04:21.597Z"
   },
   {
    "duration": 14,
    "start_time": "2024-06-10T20:04:43.359Z"
   },
   {
    "duration": 180,
    "start_time": "2024-06-10T20:05:23.476Z"
   },
   {
    "duration": 183,
    "start_time": "2024-06-10T20:05:49.300Z"
   },
   {
    "duration": 15,
    "start_time": "2024-06-10T20:06:26.980Z"
   },
   {
    "duration": 7,
    "start_time": "2024-06-10T20:06:36.168Z"
   },
   {
    "duration": 1049,
    "start_time": "2024-06-10T20:09:38.836Z"
   },
   {
    "duration": 46,
    "start_time": "2024-06-10T20:09:39.887Z"
   },
   {
    "duration": 11,
    "start_time": "2024-06-10T20:09:39.934Z"
   },
   {
    "duration": 20,
    "start_time": "2024-06-10T20:09:39.947Z"
   },
   {
    "duration": 9,
    "start_time": "2024-06-10T20:09:39.968Z"
   },
   {
    "duration": 20,
    "start_time": "2024-06-10T20:09:39.978Z"
   },
   {
    "duration": 9,
    "start_time": "2024-06-10T20:09:39.999Z"
   },
   {
    "duration": 23,
    "start_time": "2024-06-10T20:09:40.009Z"
   },
   {
    "duration": 16,
    "start_time": "2024-06-10T20:09:40.033Z"
   },
   {
    "duration": 30,
    "start_time": "2024-06-10T20:09:40.051Z"
   },
   {
    "duration": 69,
    "start_time": "2024-06-10T20:09:40.082Z"
   },
   {
    "duration": 3,
    "start_time": "2024-06-10T20:09:40.153Z"
   },
   {
    "duration": 7,
    "start_time": "2024-06-10T20:09:40.158Z"
   },
   {
    "duration": 18,
    "start_time": "2024-06-10T20:09:40.167Z"
   },
   {
    "duration": 133,
    "start_time": "2024-06-10T20:09:40.187Z"
   },
   {
    "duration": 75,
    "start_time": "2024-06-10T20:09:40.322Z"
   },
   {
    "duration": 173,
    "start_time": "2024-06-10T20:09:40.398Z"
   },
   {
    "duration": 175,
    "start_time": "2024-06-10T20:09:40.572Z"
   },
   {
    "duration": 190,
    "start_time": "2024-06-10T20:09:40.749Z"
   },
   {
    "duration": 22,
    "start_time": "2024-06-10T20:09:40.945Z"
   },
   {
    "duration": 2,
    "start_time": "2024-06-10T20:09:40.969Z"
   },
   {
    "duration": 200,
    "start_time": "2024-06-10T20:09:40.973Z"
   },
   {
    "duration": 19,
    "start_time": "2024-06-10T20:09:41.175Z"
   },
   {
    "duration": 9,
    "start_time": "2024-06-10T20:09:41.195Z"
   },
   {
    "duration": 654,
    "start_time": "2024-06-10T20:09:41.205Z"
   },
   {
    "duration": 35,
    "start_time": "2024-06-10T20:09:41.861Z"
   },
   {
    "duration": 11,
    "start_time": "2024-06-10T20:09:41.898Z"
   },
   {
    "duration": 33,
    "start_time": "2024-06-10T20:09:41.912Z"
   },
   {
    "duration": 17,
    "start_time": "2024-06-10T20:09:41.947Z"
   },
   {
    "duration": 19,
    "start_time": "2024-06-10T20:09:41.966Z"
   },
   {
    "duration": 32,
    "start_time": "2024-06-10T20:09:41.988Z"
   },
   {
    "duration": 279,
    "start_time": "2024-06-10T20:09:42.022Z"
   },
   {
    "duration": 317,
    "start_time": "2024-06-10T20:09:42.303Z"
   },
   {
    "duration": 0,
    "start_time": "2024-06-10T20:09:42.622Z"
   },
   {
    "duration": 3,
    "start_time": "2024-06-10T20:09:56.331Z"
   },
   {
    "duration": 40,
    "start_time": "2024-06-10T20:09:59.735Z"
   },
   {
    "duration": 33,
    "start_time": "2024-06-10T20:10:04.147Z"
   },
   {
    "duration": 33,
    "start_time": "2024-06-10T20:10:08.919Z"
   },
   {
    "duration": 10,
    "start_time": "2024-06-10T20:10:15.911Z"
   },
   {
    "duration": 11,
    "start_time": "2024-06-10T20:10:20.208Z"
   },
   {
    "duration": 8,
    "start_time": "2024-06-10T20:10:23.754Z"
   },
   {
    "duration": 9,
    "start_time": "2024-06-10T20:11:28.476Z"
   },
   {
    "duration": 177,
    "start_time": "2024-06-10T20:11:43.497Z"
   },
   {
    "duration": 66,
    "start_time": "2024-06-10T20:15:10.693Z"
   },
   {
    "duration": 55,
    "start_time": "2024-06-10T20:15:46.551Z"
   },
   {
    "duration": 55,
    "start_time": "2024-06-10T20:15:52.843Z"
   },
   {
    "duration": 167,
    "start_time": "2024-06-10T20:17:05.966Z"
   },
   {
    "duration": 24,
    "start_time": "2024-06-10T20:17:34.731Z"
   },
   {
    "duration": 38,
    "start_time": "2024-06-10T20:19:21.760Z"
   },
   {
    "duration": 17,
    "start_time": "2024-06-10T20:19:31.098Z"
   },
   {
    "duration": 4,
    "start_time": "2024-06-11T08:00:09.727Z"
   },
   {
    "duration": 68,
    "start_time": "2024-06-11T08:01:24.043Z"
   },
   {
    "duration": 5,
    "start_time": "2024-06-11T08:01:34.552Z"
   },
   {
    "duration": 3,
    "start_time": "2024-06-11T08:01:55.514Z"
   },
   {
    "duration": 1015,
    "start_time": "2024-06-11T08:02:05.577Z"
   },
   {
    "duration": 48,
    "start_time": "2024-06-11T08:02:06.594Z"
   },
   {
    "duration": 11,
    "start_time": "2024-06-11T08:02:06.644Z"
   },
   {
    "duration": 32,
    "start_time": "2024-06-11T08:02:06.656Z"
   },
   {
    "duration": 9,
    "start_time": "2024-06-11T08:02:06.690Z"
   },
   {
    "duration": 23,
    "start_time": "2024-06-11T08:02:06.700Z"
   },
   {
    "duration": 9,
    "start_time": "2024-06-11T08:02:06.725Z"
   },
   {
    "duration": 19,
    "start_time": "2024-06-11T08:02:06.736Z"
   },
   {
    "duration": 16,
    "start_time": "2024-06-11T08:02:06.757Z"
   },
   {
    "duration": 7,
    "start_time": "2024-06-11T08:02:06.774Z"
   },
   {
    "duration": 7,
    "start_time": "2024-06-11T08:02:06.782Z"
   },
   {
    "duration": 3,
    "start_time": "2024-06-11T08:02:06.791Z"
   },
   {
    "duration": 4,
    "start_time": "2024-06-11T08:02:06.795Z"
   },
   {
    "duration": 4,
    "start_time": "2024-06-11T08:02:06.802Z"
   },
   {
    "duration": 177,
    "start_time": "2024-06-11T08:02:06.807Z"
   },
   {
    "duration": 75,
    "start_time": "2024-06-11T08:02:06.986Z"
   },
   {
    "duration": 186,
    "start_time": "2024-06-11T08:02:07.063Z"
   },
   {
    "duration": 181,
    "start_time": "2024-06-11T08:02:07.251Z"
   },
   {
    "duration": 192,
    "start_time": "2024-06-11T08:02:07.433Z"
   },
   {
    "duration": 22,
    "start_time": "2024-06-11T08:02:07.627Z"
   },
   {
    "duration": 10,
    "start_time": "2024-06-11T08:02:07.650Z"
   },
   {
    "duration": 185,
    "start_time": "2024-06-11T08:02:07.661Z"
   },
   {
    "duration": 4,
    "start_time": "2024-06-11T08:02:07.848Z"
   },
   {
    "duration": 42,
    "start_time": "2024-06-11T08:02:07.854Z"
   },
   {
    "duration": 9,
    "start_time": "2024-06-11T08:02:07.898Z"
   },
   {
    "duration": 642,
    "start_time": "2024-06-11T08:02:07.908Z"
   },
   {
    "duration": 37,
    "start_time": "2024-06-11T08:02:08.551Z"
   },
   {
    "duration": 15,
    "start_time": "2024-06-11T08:02:08.590Z"
   },
   {
    "duration": 5,
    "start_time": "2024-06-11T08:02:08.606Z"
   },
   {
    "duration": 22,
    "start_time": "2024-06-11T08:02:08.612Z"
   },
   {
    "duration": 29,
    "start_time": "2024-06-11T08:02:08.635Z"
   },
   {
    "duration": 5,
    "start_time": "2024-06-11T08:02:08.666Z"
   },
   {
    "duration": 229,
    "start_time": "2024-06-11T08:02:08.672Z"
   },
   {
    "duration": 233,
    "start_time": "2024-06-11T08:02:08.902Z"
   },
   {
    "duration": 0,
    "start_time": "2024-06-11T08:02:09.137Z"
   },
   {
    "duration": 3,
    "start_time": "2024-06-11T08:02:16.985Z"
   },
   {
    "duration": 42,
    "start_time": "2024-06-11T08:02:21.313Z"
   },
   {
    "duration": 34,
    "start_time": "2024-06-11T08:02:27.009Z"
   },
   {
    "duration": 31,
    "start_time": "2024-06-11T08:02:32.457Z"
   },
   {
    "duration": 7,
    "start_time": "2024-06-11T08:02:41.115Z"
   },
   {
    "duration": 13,
    "start_time": "2024-06-11T08:02:47.769Z"
   },
   {
    "duration": 7,
    "start_time": "2024-06-11T08:02:52.651Z"
   },
   {
    "duration": 8,
    "start_time": "2024-06-11T08:03:01.147Z"
   },
   {
    "duration": 4,
    "start_time": "2024-06-11T08:03:13.256Z"
   },
   {
    "duration": 10,
    "start_time": "2024-06-11T08:03:36.707Z"
   },
   {
    "duration": 3,
    "start_time": "2024-06-11T08:03:42.550Z"
   },
   {
    "duration": 4,
    "start_time": "2024-06-11T08:04:33.605Z"
   },
   {
    "duration": 3,
    "start_time": "2024-06-11T08:05:17.305Z"
   },
   {
    "duration": 63,
    "start_time": "2024-06-11T08:05:40.490Z"
   },
   {
    "duration": 64,
    "start_time": "2024-06-11T08:05:49.765Z"
   },
   {
    "duration": 5,
    "start_time": "2024-06-11T08:06:46.269Z"
   },
   {
    "duration": 4,
    "start_time": "2024-06-11T08:07:01.547Z"
   },
   {
    "duration": 3,
    "start_time": "2024-06-11T08:07:09.635Z"
   },
   {
    "duration": 8,
    "start_time": "2024-06-11T08:08:17.303Z"
   },
   {
    "duration": 20,
    "start_time": "2024-06-11T08:09:12.785Z"
   },
   {
    "duration": 7,
    "start_time": "2024-06-11T08:09:37.919Z"
   },
   {
    "duration": 7,
    "start_time": "2024-06-11T08:10:36.849Z"
   },
   {
    "duration": 3,
    "start_time": "2024-06-11T08:10:40.272Z"
   },
   {
    "duration": 12,
    "start_time": "2024-06-11T08:12:15.659Z"
   },
   {
    "duration": 9,
    "start_time": "2024-06-11T08:13:17.702Z"
   },
   {
    "duration": 9,
    "start_time": "2024-06-11T08:13:24.272Z"
   },
   {
    "duration": 67,
    "start_time": "2024-06-11T08:20:27.681Z"
   },
   {
    "duration": 212,
    "start_time": "2024-06-11T08:20:39.333Z"
   },
   {
    "duration": 206,
    "start_time": "2024-06-11T08:21:07.024Z"
   },
   {
    "duration": 248,
    "start_time": "2024-06-11T08:21:31.481Z"
   },
   {
    "duration": 244,
    "start_time": "2024-06-11T08:22:02.870Z"
   },
   {
    "duration": 262,
    "start_time": "2024-06-11T08:23:26.490Z"
   },
   {
    "duration": 270,
    "start_time": "2024-06-11T08:24:09.814Z"
   },
   {
    "duration": 269,
    "start_time": "2024-06-11T08:24:21.551Z"
   },
   {
    "duration": 109,
    "start_time": "2024-06-11T08:24:50.232Z"
   },
   {
    "duration": 399,
    "start_time": "2024-06-11T08:24:56.298Z"
   },
   {
    "duration": 296,
    "start_time": "2024-06-11T08:25:30.055Z"
   },
   {
    "duration": 244,
    "start_time": "2024-06-11T08:25:56.346Z"
   },
   {
    "duration": 259,
    "start_time": "2024-06-11T08:26:07.626Z"
   },
   {
    "duration": 277,
    "start_time": "2024-06-11T08:26:14.861Z"
   },
   {
    "duration": 226,
    "start_time": "2024-06-11T08:27:23.852Z"
   },
   {
    "duration": 262,
    "start_time": "2024-06-11T08:27:39.346Z"
   },
   {
    "duration": 321,
    "start_time": "2024-06-11T08:29:09.186Z"
   },
   {
    "duration": 483,
    "start_time": "2024-06-11T08:30:22.257Z"
   },
   {
    "duration": 375,
    "start_time": "2024-06-11T08:38:55.633Z"
   },
   {
    "duration": 1082,
    "start_time": "2024-06-11T08:45:18.013Z"
   },
   {
    "duration": 4,
    "start_time": "2024-06-11T08:45:49.155Z"
   },
   {
    "duration": 10,
    "start_time": "2024-06-11T08:46:12.836Z"
   },
   {
    "duration": 10,
    "start_time": "2024-06-11T08:46:34.493Z"
   },
   {
    "duration": 6,
    "start_time": "2024-06-11T08:46:55.268Z"
   },
   {
    "duration": 3,
    "start_time": "2024-06-11T08:47:03.936Z"
   },
   {
    "duration": 7,
    "start_time": "2024-06-11T08:47:09.049Z"
   },
   {
    "duration": 4,
    "start_time": "2024-06-11T08:47:14.827Z"
   },
   {
    "duration": 105,
    "start_time": "2024-06-11T08:48:28.612Z"
   },
   {
    "duration": 23,
    "start_time": "2024-06-11T08:49:03.995Z"
   },
   {
    "duration": 35,
    "start_time": "2024-06-11T08:50:14.021Z"
   },
   {
    "duration": 17,
    "start_time": "2024-06-11T08:50:56.138Z"
   },
   {
    "duration": 42,
    "start_time": "2024-06-11T08:51:18.472Z"
   },
   {
    "duration": 11,
    "start_time": "2024-06-11T08:51:40.711Z"
   },
   {
    "duration": 59,
    "start_time": "2024-06-11T09:12:42.392Z"
   },
   {
    "duration": 131,
    "start_time": "2024-06-11T09:12:48.001Z"
   },
   {
    "duration": 136,
    "start_time": "2024-06-11T09:14:22.844Z"
   },
   {
    "duration": 134,
    "start_time": "2024-06-11T09:14:35.678Z"
   },
   {
    "duration": 155,
    "start_time": "2024-06-11T09:14:58.344Z"
   },
   {
    "duration": 63,
    "start_time": "2024-06-11T09:16:53.027Z"
   },
   {
    "duration": 125,
    "start_time": "2024-06-11T09:16:57.729Z"
   },
   {
    "duration": 146,
    "start_time": "2024-06-11T09:17:06.976Z"
   },
   {
    "duration": 242,
    "start_time": "2024-06-11T09:19:35.476Z"
   },
   {
    "duration": 5,
    "start_time": "2024-06-11T09:22:59.356Z"
   },
   {
    "duration": 13,
    "start_time": "2024-06-11T09:47:44.209Z"
   },
   {
    "duration": 7,
    "start_time": "2024-06-11T09:48:16.576Z"
   },
   {
    "duration": 63,
    "start_time": "2024-06-11T09:49:36.650Z"
   },
   {
    "duration": 77,
    "start_time": "2024-06-11T09:50:33.840Z"
   },
   {
    "duration": 89,
    "start_time": "2024-06-11T09:52:06.043Z"
   },
   {
    "duration": 93,
    "start_time": "2024-06-11T09:52:13.079Z"
   },
   {
    "duration": 4,
    "start_time": "2024-06-11T13:29:39.265Z"
   },
   {
    "duration": 4,
    "start_time": "2024-06-11T13:29:50.454Z"
   },
   {
    "duration": 977,
    "start_time": "2024-06-11T16:05:56.654Z"
   },
   {
    "duration": 187,
    "start_time": "2024-06-11T16:05:57.632Z"
   },
   {
    "duration": 9,
    "start_time": "2024-06-11T16:05:57.820Z"
   },
   {
    "duration": 103,
    "start_time": "2024-06-11T16:05:57.831Z"
   },
   {
    "duration": 9,
    "start_time": "2024-06-11T16:05:57.935Z"
   },
   {
    "duration": 84,
    "start_time": "2024-06-11T16:05:57.945Z"
   },
   {
    "duration": 8,
    "start_time": "2024-06-11T16:05:58.031Z"
   },
   {
    "duration": 10,
    "start_time": "2024-06-11T16:05:58.040Z"
   },
   {
    "duration": 12,
    "start_time": "2024-06-11T16:05:58.051Z"
   },
   {
    "duration": 6,
    "start_time": "2024-06-11T16:05:58.065Z"
   },
   {
    "duration": 6,
    "start_time": "2024-06-11T16:05:58.072Z"
   },
   {
    "duration": 8,
    "start_time": "2024-06-11T16:05:58.079Z"
   },
   {
    "duration": 20,
    "start_time": "2024-06-11T16:05:58.089Z"
   },
   {
    "duration": 5,
    "start_time": "2024-06-11T16:05:58.110Z"
   },
   {
    "duration": 130,
    "start_time": "2024-06-11T16:05:58.119Z"
   },
   {
    "duration": 76,
    "start_time": "2024-06-11T16:05:58.250Z"
   },
   {
    "duration": 166,
    "start_time": "2024-06-11T16:05:58.327Z"
   },
   {
    "duration": 169,
    "start_time": "2024-06-11T16:05:58.495Z"
   },
   {
    "duration": 160,
    "start_time": "2024-06-11T16:05:58.666Z"
   },
   {
    "duration": 13,
    "start_time": "2024-06-11T16:05:58.827Z"
   },
   {
    "duration": 20,
    "start_time": "2024-06-11T16:05:58.842Z"
   },
   {
    "duration": 148,
    "start_time": "2024-06-11T16:05:58.864Z"
   },
   {
    "duration": 8,
    "start_time": "2024-06-11T16:05:59.013Z"
   },
   {
    "duration": 23,
    "start_time": "2024-06-11T16:05:59.022Z"
   },
   {
    "duration": 3,
    "start_time": "2024-06-11T16:05:59.046Z"
   },
   {
    "duration": 8,
    "start_time": "2024-06-11T16:05:59.050Z"
   },
   {
    "duration": 20,
    "start_time": "2024-06-11T16:05:59.059Z"
   },
   {
    "duration": 21,
    "start_time": "2024-06-11T16:05:59.082Z"
   },
   {
    "duration": 364,
    "start_time": "2024-06-11T16:05:59.104Z"
   },
   {
    "duration": 3,
    "start_time": "2024-06-11T16:05:59.469Z"
   },
   {
    "duration": 38,
    "start_time": "2024-06-11T16:05:59.473Z"
   },
   {
    "duration": 13,
    "start_time": "2024-06-11T16:05:59.512Z"
   },
   {
    "duration": 85,
    "start_time": "2024-06-11T16:05:59.526Z"
   },
   {
    "duration": 10,
    "start_time": "2024-06-11T16:05:59.612Z"
   },
   {
    "duration": 5,
    "start_time": "2024-06-11T16:05:59.623Z"
   },
   {
    "duration": 21,
    "start_time": "2024-06-11T16:05:59.629Z"
   },
   {
    "duration": 11,
    "start_time": "2024-06-11T16:05:59.651Z"
   },
   {
    "duration": 193,
    "start_time": "2024-06-11T16:05:59.663Z"
   },
   {
    "duration": 123,
    "start_time": "2024-06-11T16:05:59.858Z"
   },
   {
    "duration": 51,
    "start_time": "2024-06-11T16:05:59.982Z"
   },
   {
    "duration": 0,
    "start_time": "2024-06-11T16:06:00.034Z"
   },
   {
    "duration": 9,
    "start_time": "2024-06-11T16:06:37.346Z"
   }
  ],
  "kernelspec": {
   "display_name": "Python 3 (ipykernel)",
   "language": "python",
   "name": "python3"
  },
  "language_info": {
   "codemirror_mode": {
    "name": "ipython",
    "version": 3
   },
   "file_extension": ".py",
   "mimetype": "text/x-python",
   "name": "python",
   "nbconvert_exporter": "python",
   "pygments_lexer": "ipython3",
   "version": "3.11.8"
  },
  "toc": {
   "base_numbering": 1,
   "nav_menu": {},
   "number_sections": true,
   "sideBar": true,
   "skip_h1_title": true,
   "title_cell": "Table of Contents",
   "title_sidebar": "Contents",
   "toc_cell": false,
   "toc_position": {
    "height": "calc(100% - 180px)",
    "left": "10px",
    "top": "150px",
    "width": "475.689px"
   },
   "toc_section_display": true,
   "toc_window_display": true
  }
 },
 "nbformat": 4,
 "nbformat_minor": 5
}
